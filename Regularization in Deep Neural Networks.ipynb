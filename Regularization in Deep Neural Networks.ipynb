{
  "nbformat": 4,
  "nbformat_minor": 0,
  "metadata": {
    "colab": {
      "name": "HW2{IREMSUSAVAS_2005941}.ipynb",
      "provenance": [],
      "collapsed_sections": []
    },
    "kernelspec": {
      "display_name": "Python 3",
      "name": "python3"
    }
  },
  "cells": [
    {
      "cell_type": "markdown",
      "metadata": {
        "id": "QUc9frYnVBI_"
      },
      "source": [
        "#**HW 2: Optimize and train Deep Models**\n",
        "\n",
        "In this homework, we will explore how to develop a simple Deep Neural Network for a classification problem. We will explore two common libraries: TensorFlow and Keras.\n",
        "Then we will explore how to face a well known problem that is common to encounter during the training phase: the Overfitting.\n",
        "Finally, we will study how to perform a fair model selection.\n",
        "Hint: Before starting the exercise take a look at how Tensorflow and Keras are designed.  https://keras.io/"
      ]
    },
    {
      "cell_type": "markdown",
      "metadata": {
        "id": "e-Nc7mFSVEiU"
      },
      "source": [
        "##Exercise 2.1: Image Classficiation with Tensorflow and Keras\n",
        "\n",
        "In this first exercise we will develop a 3 layers Neural Network to perfrom classification.\n",
        "\n",
        "Let's start importing the libraries we will need and setting a couple of environmental variables.\n"
      ]
    },
    {
      "cell_type": "code",
      "metadata": {
        "id": "bWn9FzneVqJo"
      },
      "source": [
        "import matplotlib as mpl\n",
        "import matplotlib.pyplot as plt\n",
        "import numpy as np\n",
        "import os\n",
        "import pandas as pd\n",
        "import sklearn\n",
        "import sys\n",
        "import tensorflow as tf\n",
        "from tensorflow import keras  # tf.keras\n",
        "import time\n",
        "\n",
        "import logging\n",
        "logging.disable(logging.WARNING)\n",
        "os.environ[\"TF_CPP_MIN_LOG_LEVEL\"] = \"3\" \n",
        "\n",
        "\n",
        "\n",
        "tf.random.set_seed(42)\n",
        "# os.environ['TF_DETERMINISTIC_OPS']='1'"
      ],
      "execution_count": null,
      "outputs": []
    },
    {
      "cell_type": "markdown",
      "metadata": {
        "id": "LT2HMYDEXcx0"
      },
      "source": [
        "### Load Data: IMDB dataset\n",
        "\n",
        "In this HW, we use the IMDB dataset that can be easily downloaded using Keras. The dataset contains 50,000 movie reviews from IMDB, labeled by sentiment (positive/negative). Reviews have been preprocessed, and each review is encoded as a sequence of word indexes. For convenience, the words are indexed by the overall frequency in the dataset, so that for example the integer \"3\" encodes the 3rd most frequent word in the data. For testing purposes, we will only consider the first 10,000  most common words.\n",
        "By default, the load_data method returns a breakdown of the dataset into training and test sets. Both these sets contain 25,000 samples. To also have a validation set, we split the test set in half.\n",
        "\n"
      ]
    },
    {
      "cell_type": "code",
      "metadata": {
        "id": "JZv86gBLXj-D",
        "colab": {
          "base_uri": "https://localhost:8080/"
        },
        "outputId": "9eeae03d-6591-4ccd-f5c7-9ed1324f3a1e"
      },
      "source": [
        "num_words = 1000\n",
        "(X_train, y_train), (X_test, y_test) = keras.datasets.imdb.load_data(num_words=num_words)\n",
        "(X_valid, X_test) = X_test[:12500], X_test[12500:]\n",
        "(y_valid, y_test) = y_test[:12500], y_test[12500:]"
      ],
      "execution_count": null,
      "outputs": [
        {
          "output_type": "stream",
          "text": [
            "<string>:6: VisibleDeprecationWarning: Creating an ndarray from ragged nested sequences (which is a list-or-tuple of lists-or-tuples-or ndarrays with different lengths or shapes) is deprecated. If you meant to do this, you must specify 'dtype=object' when creating the ndarray\n",
            "/usr/local/lib/python3.7/dist-packages/tensorflow/python/keras/datasets/imdb.py:155: VisibleDeprecationWarning: Creating an ndarray from ragged nested sequences (which is a list-or-tuple of lists-or-tuples-or ndarrays with different lengths or shapes) is deprecated. If you meant to do this, you must specify 'dtype=object' when creating the ndarray\n",
            "  x_train, y_train = np.array(xs[:idx]), np.array(labels[:idx])\n",
            "/usr/local/lib/python3.7/dist-packages/tensorflow/python/keras/datasets/imdb.py:156: VisibleDeprecationWarning: Creating an ndarray from ragged nested sequences (which is a list-or-tuple of lists-or-tuples-or ndarrays with different lengths or shapes) is deprecated. If you meant to do this, you must specify 'dtype=object' when creating the ndarray\n",
            "  x_test, y_test = np.array(xs[idx:]), np.array(labels[idx:])\n"
          ],
          "name": "stderr"
        }
      ]
    },
    {
      "cell_type": "markdown",
      "metadata": {
        "id": "TEZHVHpuPdQF"
      },
      "source": [
        "In this HW we will consider a Deep Neural Network. The IMDB data consists in reviews, each one composed by a seqeunce of words. In order to encode each review in a single tensor with a fixed number of elements, we will use multi-hot encoding. Multi-hot-encoding our lists means turning them into vectors of 0s and 1s. Concretely, this would mean for instance turning the sequence [3, 5] into a 10,000-dimensional vector that would be all-zeros except for indices 3 and 5, which would be ones. The obtained input representation indicates which words are present (at least one time) in the sentence.\n",
        "\n",
        " "
      ]
    },
    {
      "cell_type": "code",
      "metadata": {
        "id": "hxE9DhiFPP0T"
      },
      "source": [
        "def multi_hot_encoder(dataset, num_word):\n",
        "  dataset_multi_hot=[]\n",
        "  for sequence in dataset:\n",
        "    index, _ = tf.unique(sequence)\n",
        "    dataset_multi_hot.append(tf.reduce_max(tf.one_hot(index-1, num_word, dtype=tf.int32), axis=0))\n",
        "  dataset_multi_hot = tf.stack(dataset_multi_hot)\n",
        "  return dataset_multi_hot\n",
        "\n",
        "X_train = multi_hot_encoder(X_train,num_words)\n",
        "X_test = multi_hot_encoder(X_test,num_words)\n",
        "X_valid = multi_hot_encoder(X_valid,num_words)"
      ],
      "execution_count": null,
      "outputs": []
    },
    {
      "cell_type": "markdown",
      "metadata": {
        "id": "jGUg8TexZMNf"
      },
      "source": [
        "### Define the model:\n",
        "\n",
        "Let's build a Sequential model (keras.models.Sequential) and add four layers to it by calling its add() method:\n",
        "\n",
        "\n",
        "*   a input layer (tf.keras.Input) that is the first layer in your model. With this layer you should specify the input_shape argument, leaving out the batch size: (num_words,);\n",
        "*  a Dense layer (keras.layers.Dense) with 16 neurons, and the \"relu\" activation function;\n",
        "* another Dense layer with 16 neurons, also with the \"relu\" activation function;\n",
        "* a final Dense layer with 1 output neurons, and with the \"sigmoid\" activation (since we considering a binary classification task)."
      ]
    },
    {
      "cell_type": "code",
      "metadata": {
        "id": "OaoEISyaZL56"
      },
      "source": [
        "model = keras.models.Sequential()\n",
        "model.add(tf.keras.Input(shape=(num_words,)))\n",
        "model.add(keras.layers.Dense(16, activation=\"relu\"))\n",
        "model.add(keras.layers.Dense(16, activation=\"relu\"))\n",
        "model.add(keras.layers.Dense(1, activation=\"sigmoid\"))\n",
        "\n"
      ],
      "execution_count": null,
      "outputs": []
    },
    {
      "cell_type": "markdown",
      "metadata": {
        "id": "fYfxUOQVZljh"
      },
      "source": [
        "Call the model's summary() method to check if the model has been built correctly. Also, try using keras.utils.plot_model() to save an image of your model's architecture."
      ]
    },
    {
      "cell_type": "code",
      "metadata": {
        "id": "IpGkQl5dZoWq",
        "colab": {
          "base_uri": "https://localhost:8080/"
        },
        "outputId": "3109db62-878f-4201-a1e5-05192fc8639c"
      },
      "source": [
        "model.summary()"
      ],
      "execution_count": null,
      "outputs": [
        {
          "output_type": "stream",
          "text": [
            "Model: \"sequential\"\n",
            "_________________________________________________________________\n",
            "Layer (type)                 Output Shape              Param #   \n",
            "=================================================================\n",
            "dense (Dense)                (None, 16)                16016     \n",
            "_________________________________________________________________\n",
            "dense_1 (Dense)              (None, 16)                272       \n",
            "_________________________________________________________________\n",
            "dense_2 (Dense)              (None, 1)                 17        \n",
            "=================================================================\n",
            "Total params: 16,305\n",
            "Trainable params: 16,305\n",
            "Non-trainable params: 0\n",
            "_________________________________________________________________\n"
          ],
          "name": "stdout"
        }
      ]
    },
    {
      "cell_type": "code",
      "metadata": {
        "id": "b1NbkrXRZwOA",
        "colab": {
          "base_uri": "https://localhost:8080/",
          "height": 422
        },
        "outputId": "7839e920-509d-49a1-c18d-06faa88bc2c1"
      },
      "source": [
        "keras.utils.plot_model(model, \"my_imdb_model.png\", show_shapes=True)"
      ],
      "execution_count": null,
      "outputs": [
        {
          "output_type": "execute_result",
          "data": {
            "image/png": "[encoded data removed]",
            "text/plain": [
              "<IPython.core.display.Image object>"
            ]
          },
          "metadata": {
            "tags": []
          },
          "execution_count": 10
        }
      ]
    },
    {
      "cell_type": "markdown",
      "metadata": {
        "id": "Mc3xzuA-33WH"
      },
      "source": [
        "As you can see, the first dimension of each layer is not defined (?), indeed this dimension in each layer is variable and depends on the batch size."
      ]
    },
    {
      "cell_type": "markdown",
      "metadata": {
        "id": "6FAjFixuHSA_"
      },
      "source": [
        "Instaed of using *add()* method it is also possibile to define the model using the following syntax"
      ]
    },
    {
      "cell_type": "code",
      "metadata": {
        "id": "yOhr57M9GPHy",
        "colab": {
          "base_uri": "https://localhost:8080/",
          "height": 650
        },
        "outputId": "57b2b20d-df05-406d-902a-f646a3c4b0f3"
      },
      "source": [
        "model = keras.models.Sequential([\n",
        "    tf.keras.Input(shape=(num_words,)),\n",
        "    keras.layers.Dense(16, activation=\"relu\"),\n",
        "    keras.layers.Dense(16, activation=\"relu\"),\n",
        "    keras.layers.Dense(1, activation=\"sigmoid\")\n",
        "])\n",
        "model.summary()\n",
        "keras.utils.plot_model(model, \"my_imdb_model.png\", show_shapes=True)"
      ],
      "execution_count": null,
      "outputs": [
        {
          "output_type": "stream",
          "text": [
            "Model: \"sequential_2\"\n",
            "_________________________________________________________________\n",
            "Layer (type)                 Output Shape              Param #   \n",
            "=================================================================\n",
            "dense_6 (Dense)              (None, 16)                16016     \n",
            "_________________________________________________________________\n",
            "dense_7 (Dense)              (None, 16)                272       \n",
            "_________________________________________________________________\n",
            "dense_8 (Dense)              (None, 1)                 17        \n",
            "=================================================================\n",
            "Total params: 16,305\n",
            "Trainable params: 16,305\n",
            "Non-trainable params: 0\n",
            "_________________________________________________________________\n"
          ],
          "name": "stdout"
        },
        {
          "output_type": "execute_result",
          "data": {
            "image/png": "[encoded data removed]",
            "text/plain": [
              "<IPython.core.display.Image object>"
            ]
          },
          "metadata": {
            "tags": []
          },
          "execution_count": 11
        }
      ]
    },
    {
      "cell_type": "markdown",
      "metadata": {
        "id": "2ySdJmzxaSuz"
      },
      "source": [
        "### Optimize the model:\n",
        "\n",
        "After the model has been created, you must call its compile() method to specify the loss function and the optimizer to use.\n",
        "\n",
        "Since the model performs a binary classification task, we use the bynary cross-entropy as loss. As optimizer we use Adam.\n",
        "\n",
        "Moreover, you can optionally specify a list of additional metrics that should be measured during training. In this case we specify metrics=[\"accuracy\"]."
      ]
    },
    {
      "cell_type": "code",
      "metadata": {
        "id": "x3bbsY3uaeh5"
      },
      "source": [
        "model.compile(loss=\"binary_crossentropy\",\n",
        "              optimizer=keras.optimizers.Adam(learning_rate=1e-4),\n",
        "              metrics=[\"accuracy\"])"
      ],
      "execution_count": null,
      "outputs": []
    },
    {
      "cell_type": "markdown",
      "metadata": {
        "id": "NB9SV0MpaeTg"
      },
      "source": [
        "Now our model is ready to be trained. Call its fit() method, passing to it the input features (X_train) and the target classes (y_train). Set the number of epochs to 20. \n",
        "In order to validate our model we will also pass the validation data by setting validation_data=(X_valid, y_valid). Keras will compute the loss and the additional metrics (the accuracy in this case) on the validation set at the end of each epoch. If the loss on the training set is much lower than the one on the validation set, your model is probably overfitting the training set. Note: the fit() method will return a History object containing training stats."
      ]
    },
    {
      "cell_type": "code",
      "metadata": {
        "id": "5whx-LU3aoKn",
        "colab": {
          "base_uri": "https://localhost:8080/"
        },
        "outputId": "1f94dabd-f6c2-4106-dc64-1f8d053f3fe2"
      },
      "source": [
        "history = model.fit(X_train, y_train, epochs=20,\n",
        "                    validation_data=(X_valid, y_valid))"
      ],
      "execution_count": null,
      "outputs": [
        {
          "output_type": "stream",
          "text": [
            "Epoch 1/20\n",
            "782/782 [==============================] - 3s 2ms/step - loss: 0.6226 - accuracy: 0.6698 - val_loss: 0.5086 - val_accuracy: 0.7899\n",
            "Epoch 2/20\n",
            "782/782 [==============================] - 2s 2ms/step - loss: 0.4251 - accuracy: 0.8259 - val_loss: 0.3856 - val_accuracy: 0.8406\n",
            "Epoch 3/20\n",
            "782/782 [==============================] - 2s 2ms/step - loss: 0.3515 - accuracy: 0.8555 - val_loss: 0.3534 - val_accuracy: 0.8515\n",
            "Epoch 4/20\n",
            "782/782 [==============================] - 2s 2ms/step - loss: 0.3258 - accuracy: 0.8657 - val_loss: 0.3407 - val_accuracy: 0.8543\n",
            "Epoch 5/20\n",
            "782/782 [==============================] - 2s 2ms/step - loss: 0.3138 - accuracy: 0.8703 - val_loss: 0.3377 - val_accuracy: 0.8555\n",
            "Epoch 6/20\n",
            "782/782 [==============================] - 2s 2ms/step - loss: 0.3072 - accuracy: 0.8726 - val_loss: 0.3344 - val_accuracy: 0.8565\n",
            "Epoch 7/20\n",
            "782/782 [==============================] - 2s 2ms/step - loss: 0.3027 - accuracy: 0.8751 - val_loss: 0.3344 - val_accuracy: 0.8562\n",
            "Epoch 8/20\n",
            "782/782 [==============================] - 2s 2ms/step - loss: 0.2999 - accuracy: 0.8773 - val_loss: 0.3344 - val_accuracy: 0.8557\n",
            "Epoch 9/20\n",
            "782/782 [==============================] - 2s 2ms/step - loss: 0.2977 - accuracy: 0.8778 - val_loss: 0.3352 - val_accuracy: 0.8549\n",
            "Epoch 10/20\n",
            "782/782 [==============================] - 2s 2ms/step - loss: 0.2958 - accuracy: 0.8784 - val_loss: 0.3355 - val_accuracy: 0.8552\n",
            "Epoch 11/20\n",
            "782/782 [==============================] - 2s 2ms/step - loss: 0.2941 - accuracy: 0.8794 - val_loss: 0.3366 - val_accuracy: 0.8539\n",
            "Epoch 12/20\n",
            "782/782 [==============================] - 2s 2ms/step - loss: 0.2926 - accuracy: 0.8794 - val_loss: 0.3373 - val_accuracy: 0.8549\n",
            "Epoch 13/20\n",
            "782/782 [==============================] - 2s 2ms/step - loss: 0.2909 - accuracy: 0.8812 - val_loss: 0.3393 - val_accuracy: 0.8543\n",
            "Epoch 14/20\n",
            "782/782 [==============================] - 2s 2ms/step - loss: 0.2897 - accuracy: 0.8818 - val_loss: 0.3387 - val_accuracy: 0.8534\n",
            "Epoch 15/20\n",
            "782/782 [==============================] - 2s 2ms/step - loss: 0.2883 - accuracy: 0.8820 - val_loss: 0.3398 - val_accuracy: 0.8537\n",
            "Epoch 16/20\n",
            "782/782 [==============================] - 2s 2ms/step - loss: 0.2864 - accuracy: 0.8834 - val_loss: 0.3405 - val_accuracy: 0.8534\n",
            "Epoch 17/20\n",
            "782/782 [==============================] - 2s 2ms/step - loss: 0.2850 - accuracy: 0.8842 - val_loss: 0.3418 - val_accuracy: 0.8543\n",
            "Epoch 18/20\n",
            "782/782 [==============================] - 2s 2ms/step - loss: 0.2832 - accuracy: 0.8850 - val_loss: 0.3427 - val_accuracy: 0.8542\n",
            "Epoch 19/20\n",
            "782/782 [==============================] - 2s 2ms/step - loss: 0.2817 - accuracy: 0.8856 - val_loss: 0.3434 - val_accuracy: 0.8523\n",
            "Epoch 20/20\n",
            "782/782 [==============================] - 2s 3ms/step - loss: 0.2793 - accuracy: 0.8858 - val_loss: 0.3445 - val_accuracy: 0.8531\n"
          ],
          "name": "stdout"
        }
      ]
    },
    {
      "cell_type": "markdown",
      "metadata": {
        "id": "EPxiw8iCADr-"
      },
      "source": [
        "Let's plot the loss and the accuracy trends on both training and validation sets. We define the \"plot_learning_acc_and_loss\" function because we will reuse it in the next steps."
      ]
    },
    {
      "cell_type": "code",
      "metadata": {
        "id": "AJg-F7mUa7st",
        "colab": {
          "base_uri": "https://localhost:8080/",
          "height": 320
        },
        "outputId": "03f09d73-1d90-43a0-9532-32f6514f8905"
      },
      "source": [
        "def plot_learning_acc_and_loss(history):\n",
        "    pd.DataFrame(history.history).plot(figsize=(8, 5))\n",
        "    plt.grid(True)\n",
        "    plt.show()\n",
        "plot_learning_acc_and_loss(history)"
      ],
      "execution_count": null,
      "outputs": [
        {
          "output_type": "display_data",
          "data": {
            "image/png": "[encoded data removed]",
            "text/plain": [
              "<Figure size 576x360 with 1 Axes>"
            ]
          },
          "metadata": {
            "tags": [],
            "needs_background": "light"
          }
        }
      ]
    },
    {
      "cell_type": "markdown",
      "metadata": {
        "id": "9O3-sLmxansJ"
      },
      "source": [
        "### [TO COMPLETE] Evaluate the model:\n",
        "\n",
        "Now, our model has been optimized on the training set, and as you can see the performance on the validation set in quite similar (so it does not overfit the training data). Let's now evaluate the performance of our model using the test set."
      ]
    },
    {
      "cell_type": "code",
      "metadata": {
        "id": "q-ZvJEcObdyB",
        "colab": {
          "base_uri": "https://localhost:8080/"
        },
        "outputId": "05f52eff-e5d1-4978-e519-637b60d1931c"
      },
      "source": [
        "model.evaluate(X_test, y_test)"
      ],
      "execution_count": null,
      "outputs": [
        {
          "output_type": "stream",
          "text": [
            "391/391 [==============================] - 0s 1ms/step - loss: 0.3226 - accuracy: 0.8662\n"
          ],
          "name": "stdout"
        },
        {
          "output_type": "execute_result",
          "data": {
            "text/plain": [
              "[0.3225741684436798, 0.8662400245666504]"
            ]
          },
          "metadata": {
            "tags": []
          },
          "execution_count": 15
        }
      ]
    },
    {
      "cell_type": "markdown",
      "metadata": {
        "id": "KTSxlnwrII-n"
      },
      "source": [
        "[TO COMPLETE] Explain why it is important to use test and validation, and why it is important to evaluate the model on the test set instead of the validation set. Finally, explain which is the usefulness of the validation set. Insert the discussion in this cell.\n",
        "\n",
        "**Answers:**\n",
        "It is important to use test and validation. \n",
        "We train the model with training data, evaluate the model with validation data and test the models accuracy and performance on test data. Splitting the data in this way,the model can be trained on a larger portion in order to adapt to more possible data constellations. And it will reduce overfitting.\n",
        "\n",
        "We are using the training set in order to train the model. The model sees and learns from this training data. After that the validation set is used to evaluate the model. **usefullness of validation set** In the validation section, the model being implemented is tried to be improved and the model is tried to be evaluated. For this, hyperparameter tuning applications are tried and the most optimum coefficients / weights are tried to be found it is very useful in order to reduce overfitting and obtain a better model. The test set used only to assess the performance of the model.\n",
        "\n",
        "**Why test set to evaluate the model?**\n",
        "\n",
        "The evaluation of the model is done by using the test set.The error rate estimate of the final model on validation is smaller than the true error rate because validation set is used for selecting the final model, and we can not use the same data for evaluating the hyperparameters and true errors both. Therefore it makes sense to evaluate the model on an unseen data which is the test set.\n",
        "\n"
      ]
    },
    {
      "cell_type": "markdown",
      "metadata": {
        "id": "aeGlzKe864Gq"
      },
      "source": [
        "## [TO COMPLETE] Exercise 2.2: Overfiting\n",
        "\n",
        "A common problem that occurs when you train a deep neural network is overfittig. Overfitting occurs when you achieve a good fit of your model on the training data, while it does not generalize well on new, unseen data. In other words, the model learned patterns specific to the training data, which are irrelevant in other data.\n",
        "As we have seen in the previous exercise, our model does not overfit the training data. In this exercise, we try to modify the training parameters in order to have a model that overfits.\n",
        "Overfitting can have many causes and usually is a combination of some of them, for instance: too many parameters/ layers, too few training samples, wrong learning rate (usualy too high), etc..\n",
        "\n",
        "[TO COMPLETE] In the next cell define a new model (similar to the previuos one) that overfits the training data; then plot the trend of the loss in training and validation set."
      ]
    },
    {
      "cell_type": "code",
      "metadata": {
        "id": "T2B2DFEC8f88",
        "colab": {
          "base_uri": "https://localhost:8080/"
        },
        "outputId": "8f006354-2c50-4667-f87c-ba817c3329de"
      },
      "source": [
        "model = keras.models.Sequential()\n",
        "#[TO COMPLETE] modify the previuos model in order to obtain a new mdel that overfit the training data\n",
        "lr=1e-3\n",
        "epochs=50  # high no of epoch high probability for a model to overfit\n",
        "\n",
        "model.add(tf.keras.Input(shape=(num_words,)))\n",
        "model.add(keras.layers.Dense(10, activation=\"relu\"))\n",
        "model.add(keras.layers.Dense(10, activation=\"relu\"))\n",
        "model.add(keras.layers.Dense(1, activation=\"sigmoid\"))\n",
        "\n",
        "model.compile(loss=\"binary_crossentropy\",\n",
        "              optimizer=keras.optimizers.Adam(learning_rate=lr),\n",
        "              metrics=[\"accuracy\"])\n",
        "\n",
        "history = model.fit(X_train, y_train, epochs=epochs,\n",
        "                    validation_data=(X_valid, y_valid))\n",
        "\n",
        "print(\"Model Evaluation\")\n",
        "model.evaluate(X_test, y_test)"
      ],
      "execution_count": null,
      "outputs": [
        {
          "output_type": "stream",
          "text": [
            "Epoch 1/50\n",
            "782/782 [==============================] - 2s 2ms/step - loss: 0.3867 - accuracy: 0.8321 - val_loss: 0.3596 - val_accuracy: 0.8447\n",
            "Epoch 2/50\n",
            "782/782 [==============================] - 2s 2ms/step - loss: 0.3240 - accuracy: 0.8643 - val_loss: 0.3391 - val_accuracy: 0.8542\n",
            "Epoch 3/50\n",
            "782/782 [==============================] - 2s 3ms/step - loss: 0.3152 - accuracy: 0.8688 - val_loss: 0.3506 - val_accuracy: 0.8502\n",
            "Epoch 4/50\n",
            "782/782 [==============================] - 2s 2ms/step - loss: 0.3052 - accuracy: 0.8727 - val_loss: 0.3520 - val_accuracy: 0.8481\n",
            "Epoch 5/50\n",
            "782/782 [==============================] - 2s 3ms/step - loss: 0.2927 - accuracy: 0.8765 - val_loss: 0.3412 - val_accuracy: 0.8525\n",
            "Epoch 6/50\n",
            "782/782 [==============================] - 2s 2ms/step - loss: 0.2804 - accuracy: 0.8810 - val_loss: 0.3409 - val_accuracy: 0.8526\n",
            "Epoch 7/50\n",
            "782/782 [==============================] - 2s 3ms/step - loss: 0.2676 - accuracy: 0.8856 - val_loss: 0.3527 - val_accuracy: 0.8526\n",
            "Epoch 8/50\n",
            "782/782 [==============================] - 2s 2ms/step - loss: 0.2555 - accuracy: 0.8927 - val_loss: 0.3560 - val_accuracy: 0.8484\n",
            "Epoch 9/50\n",
            "782/782 [==============================] - 2s 2ms/step - loss: 0.2422 - accuracy: 0.8994 - val_loss: 0.3630 - val_accuracy: 0.8470\n",
            "Epoch 10/50\n",
            "782/782 [==============================] - 2s 3ms/step - loss: 0.2302 - accuracy: 0.9054 - val_loss: 0.3767 - val_accuracy: 0.8491\n",
            "Epoch 11/50\n",
            "782/782 [==============================] - 2s 2ms/step - loss: 0.2178 - accuracy: 0.9114 - val_loss: 0.3863 - val_accuracy: 0.8446\n",
            "Epoch 12/50\n",
            "782/782 [==============================] - 2s 2ms/step - loss: 0.2073 - accuracy: 0.9166 - val_loss: 0.4010 - val_accuracy: 0.8376\n",
            "Epoch 13/50\n",
            "782/782 [==============================] - 2s 2ms/step - loss: 0.1934 - accuracy: 0.9229 - val_loss: 0.4261 - val_accuracy: 0.8382\n",
            "Epoch 14/50\n",
            "782/782 [==============================] - 2s 2ms/step - loss: 0.1831 - accuracy: 0.9264 - val_loss: 0.4373 - val_accuracy: 0.8393\n",
            "Epoch 15/50\n",
            "782/782 [==============================] - 2s 2ms/step - loss: 0.1701 - accuracy: 0.9347 - val_loss: 0.4727 - val_accuracy: 0.8350\n",
            "Epoch 16/50\n",
            "782/782 [==============================] - 2s 3ms/step - loss: 0.1603 - accuracy: 0.9373 - val_loss: 0.4980 - val_accuracy: 0.8326\n",
            "Epoch 17/50\n",
            "782/782 [==============================] - 2s 2ms/step - loss: 0.1499 - accuracy: 0.9438 - val_loss: 0.5124 - val_accuracy: 0.8340\n",
            "Epoch 18/50\n",
            "782/782 [==============================] - 2s 2ms/step - loss: 0.1401 - accuracy: 0.9466 - val_loss: 0.5548 - val_accuracy: 0.8240\n",
            "Epoch 19/50\n",
            "782/782 [==============================] - 2s 2ms/step - loss: 0.1296 - accuracy: 0.9516 - val_loss: 0.5805 - val_accuracy: 0.8275\n",
            "Epoch 20/50\n",
            "782/782 [==============================] - 2s 2ms/step - loss: 0.1199 - accuracy: 0.9568 - val_loss: 0.5983 - val_accuracy: 0.8260\n",
            "Epoch 21/50\n",
            "782/782 [==============================] - 2s 2ms/step - loss: 0.1122 - accuracy: 0.9597 - val_loss: 0.6542 - val_accuracy: 0.8228\n",
            "Epoch 22/50\n",
            "782/782 [==============================] - 2s 2ms/step - loss: 0.1054 - accuracy: 0.9624 - val_loss: 0.6742 - val_accuracy: 0.8242\n",
            "Epoch 23/50\n",
            "782/782 [==============================] - 2s 3ms/step - loss: 0.0954 - accuracy: 0.9676 - val_loss: 0.7107 - val_accuracy: 0.8233\n",
            "Epoch 24/50\n",
            "782/782 [==============================] - 2s 3ms/step - loss: 0.0900 - accuracy: 0.9700 - val_loss: 0.7285 - val_accuracy: 0.8213\n",
            "Epoch 25/50\n",
            "782/782 [==============================] - 2s 2ms/step - loss: 0.0854 - accuracy: 0.9710 - val_loss: 0.7725 - val_accuracy: 0.8213\n",
            "Epoch 26/50\n",
            "782/782 [==============================] - 2s 3ms/step - loss: 0.0784 - accuracy: 0.9735 - val_loss: 0.8169 - val_accuracy: 0.8212\n",
            "Epoch 27/50\n",
            "782/782 [==============================] - 2s 2ms/step - loss: 0.0725 - accuracy: 0.9762 - val_loss: 0.8558 - val_accuracy: 0.8174\n",
            "Epoch 28/50\n",
            "782/782 [==============================] - 2s 2ms/step - loss: 0.0684 - accuracy: 0.9768 - val_loss: 0.9048 - val_accuracy: 0.8156\n",
            "Epoch 29/50\n",
            "782/782 [==============================] - 2s 2ms/step - loss: 0.0650 - accuracy: 0.9781 - val_loss: 0.9199 - val_accuracy: 0.8150\n",
            "Epoch 30/50\n",
            "782/782 [==============================] - 2s 2ms/step - loss: 0.0619 - accuracy: 0.9790 - val_loss: 1.0049 - val_accuracy: 0.8166\n",
            "Epoch 31/50\n",
            "782/782 [==============================] - 2s 2ms/step - loss: 0.0552 - accuracy: 0.9817 - val_loss: 1.0139 - val_accuracy: 0.8162\n",
            "Epoch 32/50\n",
            "782/782 [==============================] - 2s 2ms/step - loss: 0.0515 - accuracy: 0.9842 - val_loss: 1.0857 - val_accuracy: 0.8141\n",
            "Epoch 33/50\n",
            "782/782 [==============================] - 2s 3ms/step - loss: 0.0539 - accuracy: 0.9825 - val_loss: 1.1226 - val_accuracy: 0.8159\n",
            "Epoch 34/50\n",
            "782/782 [==============================] - 2s 3ms/step - loss: 0.0512 - accuracy: 0.9829 - val_loss: 1.1696 - val_accuracy: 0.8154\n",
            "Epoch 35/50\n",
            "782/782 [==============================] - 2s 2ms/step - loss: 0.0464 - accuracy: 0.9853 - val_loss: 1.1715 - val_accuracy: 0.8133\n",
            "Epoch 36/50\n",
            "782/782 [==============================] - 2s 3ms/step - loss: 0.0431 - accuracy: 0.9862 - val_loss: 1.2360 - val_accuracy: 0.8153\n",
            "Epoch 37/50\n",
            "782/782 [==============================] - 2s 3ms/step - loss: 0.0400 - accuracy: 0.9867 - val_loss: 1.2750 - val_accuracy: 0.8157\n",
            "Epoch 38/50\n",
            "782/782 [==============================] - 2s 3ms/step - loss: 0.0390 - accuracy: 0.9876 - val_loss: 1.3121 - val_accuracy: 0.8130\n",
            "Epoch 39/50\n",
            "782/782 [==============================] - 2s 3ms/step - loss: 0.0367 - accuracy: 0.9885 - val_loss: 1.3571 - val_accuracy: 0.8130\n",
            "Epoch 40/50\n",
            "782/782 [==============================] - 2s 2ms/step - loss: 0.0396 - accuracy: 0.9862 - val_loss: 1.3711 - val_accuracy: 0.8142\n",
            "Epoch 41/50\n",
            "782/782 [==============================] - 2s 2ms/step - loss: 0.0395 - accuracy: 0.9868 - val_loss: 1.3796 - val_accuracy: 0.8110\n",
            "Epoch 42/50\n",
            "782/782 [==============================] - 2s 3ms/step - loss: 0.0353 - accuracy: 0.9885 - val_loss: 1.4457 - val_accuracy: 0.8118\n",
            "Epoch 43/50\n",
            "782/782 [==============================] - 2s 3ms/step - loss: 0.0295 - accuracy: 0.9913 - val_loss: 1.4816 - val_accuracy: 0.8149\n",
            "Epoch 44/50\n",
            "782/782 [==============================] - 2s 2ms/step - loss: 0.0271 - accuracy: 0.9918 - val_loss: 1.4617 - val_accuracy: 0.8082\n",
            "Epoch 45/50\n",
            "782/782 [==============================] - 2s 2ms/step - loss: 0.0310 - accuracy: 0.9893 - val_loss: 1.5716 - val_accuracy: 0.8099\n",
            "Epoch 46/50\n",
            "782/782 [==============================] - 2s 3ms/step - loss: 0.0347 - accuracy: 0.9885 - val_loss: 1.6642 - val_accuracy: 0.8058\n",
            "Epoch 47/50\n",
            "782/782 [==============================] - 2s 2ms/step - loss: 0.0317 - accuracy: 0.9891 - val_loss: 1.6315 - val_accuracy: 0.8145\n",
            "Epoch 48/50\n",
            "782/782 [==============================] - 2s 2ms/step - loss: 0.0257 - accuracy: 0.9920 - val_loss: 1.6021 - val_accuracy: 0.8115\n",
            "Epoch 49/50\n",
            "782/782 [==============================] - 2s 3ms/step - loss: 0.0253 - accuracy: 0.9920 - val_loss: 1.6602 - val_accuracy: 0.8138\n",
            "Epoch 50/50\n",
            "782/782 [==============================] - 2s 3ms/step - loss: 0.0263 - accuracy: 0.9921 - val_loss: 1.6678 - val_accuracy: 0.8118\n",
            "Model Evaluation\n",
            "391/391 [==============================] - 0s 1ms/step - loss: 1.5875 - accuracy: 0.8177\n"
          ],
          "name": "stdout"
        },
        {
          "output_type": "execute_result",
          "data": {
            "text/plain": [
              "[1.587531566619873, 0.8176800012588501]"
            ]
          },
          "metadata": {
            "tags": []
          },
          "execution_count": 18
        }
      ]
    },
    {
      "cell_type": "markdown",
      "metadata": {
        "id": "MS0fujEqh_m3"
      },
      "source": [
        "Define the plot_learning_curves function that plots inly the losses (not the accuracy)."
      ]
    },
    {
      "cell_type": "code",
      "metadata": {
        "id": "q5EsklC0DZYH",
        "colab": {
          "base_uri": "https://localhost:8080/",
          "height": 336
        },
        "outputId": "b7296a27-4d66-45cc-e0ea-25ed982564e3"
      },
      "source": [
        "def plot_learning_curves(history):\n",
        "    plt.figure(figsize=(8, 5))\n",
        "    plt.plot(history.epoch,history.history['loss'], label='train loss')\n",
        "    plt.plot(history.epoch,history.history['val_loss'], label='valid loss')\n",
        "    plt.legend()\n",
        "    plt.title('loss')\n",
        "    plt.grid(True)\n",
        "    plt.show()\n",
        "plot_learning_curves(history)"
      ],
      "execution_count": null,
      "outputs": [
        {
          "output_type": "display_data",
          "data": {
            "image/png": "[encoded data removed]",
            "text/plain": [
              "<Figure size 576x360 with 1 Axes>"
            ]
          },
          "metadata": {
            "tags": [],
            "needs_background": "light"
          }
        }
      ]
    },
    {
      "cell_type": "markdown",
      "metadata": {
        "id": "OW4Kf4fgDfOs"
      },
      "source": [
        "### [TO COMPLETE] L1 norm\n",
        "\n",
        "One possible way to solve the overitting issue is by using regularization methods. The two most common regularization methods in Deep Learning are the L1-norm regularization and the L2-norm regularization. Both These techniques are based on limiting the capacity of models, by adding a parameter norm penalty to the objective function $\\mathcal{J}$:\n",
        "$$\n",
        "\\hat{\\mathcal{J}}(\\theta,\\mathbf{X},\\mathbf{y}) = \\mathcal{J}(\\theta,\\mathbf{X},\\mathbf{y}) + \\alpha \\Omega(\\theta)\n",
        "$$\n",
        "where $\\alpha$ is a hyperparameter that weighs the relative contribution of the norm penalty $\\Omega$.\n",
        "Lets start by considering the L1-norm regularization where the regularization term is defined as:\n",
        "$$\n",
        " \\Omega(\\theta)=||\\mathbf{W}||_1=\\sum_i |\\mathbf{w}|\n",
        "$$\n",
        "Let's find the values for the $\\alpha$ parameters that allow to remove the overfitting effect."
      ]
    },
    {
      "cell_type": "code",
      "metadata": {
        "id": "QzD8520dDgw3",
        "colab": {
          "base_uri": "https://localhost:8080/",
          "height": 1000
        },
        "outputId": "64d61de4-d39c-4e8e-9301-e2424f2f2be3"
      },
      "source": [
        "#In Keras is neccesary to add the regularizer by using the attribute kernel_regularizer\n",
        "#to each layer whose weights will be considered in the Omega function.\n",
        "#is it also possibile to consider the bias by using the attribute bias_regularizer \n",
        "#tf.keras.regularizers.l1(alpha) perfroms the L1-norm regularization\n",
        "\n",
        "#[TO COMPLETE] copy the model that you previously defined that overfits the \n",
        "#trainnig data, and add the L1-norm regularization. Use a proper value for the\n",
        "#alpha hyper-parameter, that prevents the model from overfitting. The results  \n",
        "#reached by the model in terms of loss and accuracy (in all data sets) should be\n",
        "#comparable with the ones obtained by the initial model defined in Exercise 2.1 \n",
        "\n",
        "#In general, a layer that exploits L1-norm regularization is defined as follows:\n",
        "\n",
        "#model.add(keras.layers.Dense(units=[TO COMPLETE], activation=[TO COMPLETE], kernel_regularizer=tf.keras.regularizers.l1([TO COMPLETE]))) \n",
        "\n",
        "model = keras.models.Sequential()\n",
        "#[TO COMPLETE]\n",
        "lr=1e-3\n",
        "epochs=50\n",
        "alpha_value = 1e-3\n",
        "model.add(tf.keras.Input(shape=(num_words,)))\n",
        "model.add(keras.layers.Dense(10, activation=\"relu\", kernel_regularizer=tf.keras.regularizers.l1(alpha_value)))\n",
        "model.add(keras.layers.Dense(10, activation=\"relu\", kernel_regularizer=tf.keras.regularizers.l1(alpha_value)))\n",
        "model.add(keras.layers.Dense(1, activation=\"sigmoid\"))\n",
        "\n",
        "model.compile(loss=\"binary_crossentropy\",\n",
        "              optimizer=keras.optimizers.Adam(learning_rate=lr), #[TO COMPLETE] learning rate\n",
        "              metrics=[\"accuracy\"])\n",
        "\n",
        "history = model.fit(X_train, y_train, epochs=epochs,#[TO COMPLETE] epochs\n",
        "                    validation_data=(X_valid, y_valid))\n",
        "\n",
        "print(\"Model Evaluation\")\n",
        "model.evaluate(X_test, y_test)\n",
        "plot_learning_curves(history)"
      ],
      "execution_count": null,
      "outputs": [
        {
          "output_type": "stream",
          "text": [
            "Epoch 1/50\n",
            "782/782 [==============================] - 3s 3ms/step - loss: 0.5604 - accuracy: 0.8182 - val_loss: 0.4649 - val_accuracy: 0.8490\n",
            "Epoch 2/50\n",
            "782/782 [==============================] - 2s 3ms/step - loss: 0.4499 - accuracy: 0.8550 - val_loss: 0.4481 - val_accuracy: 0.8498\n",
            "Epoch 3/50\n",
            "782/782 [==============================] - 2s 3ms/step - loss: 0.4367 - accuracy: 0.8578 - val_loss: 0.4513 - val_accuracy: 0.8460\n",
            "Epoch 4/50\n",
            "782/782 [==============================] - 2s 3ms/step - loss: 0.4280 - accuracy: 0.8574 - val_loss: 0.4590 - val_accuracy: 0.8370\n",
            "Epoch 5/50\n",
            "782/782 [==============================] - 2s 2ms/step - loss: 0.4231 - accuracy: 0.8584 - val_loss: 0.4521 - val_accuracy: 0.8389\n",
            "Epoch 6/50\n",
            "782/782 [==============================] - 2s 3ms/step - loss: 0.4199 - accuracy: 0.8592 - val_loss: 0.4313 - val_accuracy: 0.8502\n",
            "Epoch 7/50\n",
            "782/782 [==============================] - 2s 2ms/step - loss: 0.4143 - accuracy: 0.8597 - val_loss: 0.4244 - val_accuracy: 0.8508\n",
            "Epoch 8/50\n",
            "782/782 [==============================] - 2s 2ms/step - loss: 0.4115 - accuracy: 0.8610 - val_loss: 0.4228 - val_accuracy: 0.8506\n",
            "Epoch 9/50\n",
            "782/782 [==============================] - 2s 3ms/step - loss: 0.4053 - accuracy: 0.8636 - val_loss: 0.4197 - val_accuracy: 0.8510\n",
            "Epoch 10/50\n",
            "782/782 [==============================] - 2s 2ms/step - loss: 0.4037 - accuracy: 0.8640 - val_loss: 0.4173 - val_accuracy: 0.8538\n",
            "Epoch 11/50\n",
            "782/782 [==============================] - 2s 3ms/step - loss: 0.4013 - accuracy: 0.8627 - val_loss: 0.4279 - val_accuracy: 0.8485\n",
            "Epoch 12/50\n",
            "782/782 [==============================] - 2s 2ms/step - loss: 0.3984 - accuracy: 0.8643 - val_loss: 0.4138 - val_accuracy: 0.8534\n",
            "Epoch 13/50\n",
            "782/782 [==============================] - 2s 3ms/step - loss: 0.3957 - accuracy: 0.8642 - val_loss: 0.4160 - val_accuracy: 0.8535\n",
            "Epoch 14/50\n",
            "782/782 [==============================] - 2s 2ms/step - loss: 0.3962 - accuracy: 0.8630 - val_loss: 0.4193 - val_accuracy: 0.8486\n",
            "Epoch 15/50\n",
            "782/782 [==============================] - 2s 2ms/step - loss: 0.3926 - accuracy: 0.8638 - val_loss: 0.4122 - val_accuracy: 0.8517\n",
            "Epoch 16/50\n",
            "782/782 [==============================] - 2s 2ms/step - loss: 0.3904 - accuracy: 0.8634 - val_loss: 0.4158 - val_accuracy: 0.8467\n",
            "Epoch 17/50\n",
            "782/782 [==============================] - 2s 3ms/step - loss: 0.3900 - accuracy: 0.8651 - val_loss: 0.4118 - val_accuracy: 0.8550\n",
            "Epoch 18/50\n",
            "782/782 [==============================] - 2s 2ms/step - loss: 0.3895 - accuracy: 0.8640 - val_loss: 0.4124 - val_accuracy: 0.8531\n",
            "Epoch 19/50\n",
            "782/782 [==============================] - 2s 2ms/step - loss: 0.3868 - accuracy: 0.8652 - val_loss: 0.4098 - val_accuracy: 0.8530\n",
            "Epoch 20/50\n",
            "782/782 [==============================] - 2s 2ms/step - loss: 0.3863 - accuracy: 0.8667 - val_loss: 0.4127 - val_accuracy: 0.8504\n",
            "Epoch 21/50\n",
            "782/782 [==============================] - 2s 3ms/step - loss: 0.3841 - accuracy: 0.8657 - val_loss: 0.4080 - val_accuracy: 0.8518\n",
            "Epoch 22/50\n",
            "782/782 [==============================] - 2s 2ms/step - loss: 0.3856 - accuracy: 0.8639 - val_loss: 0.4097 - val_accuracy: 0.8522\n",
            "Epoch 23/50\n",
            "782/782 [==============================] - 2s 3ms/step - loss: 0.3829 - accuracy: 0.8642 - val_loss: 0.4188 - val_accuracy: 0.8463\n",
            "Epoch 24/50\n",
            "782/782 [==============================] - 2s 2ms/step - loss: 0.3823 - accuracy: 0.8662 - val_loss: 0.4091 - val_accuracy: 0.8518\n",
            "Epoch 25/50\n",
            "782/782 [==============================] - 2s 2ms/step - loss: 0.3818 - accuracy: 0.8641 - val_loss: 0.4066 - val_accuracy: 0.8510\n",
            "Epoch 26/50\n",
            "782/782 [==============================] - 2s 2ms/step - loss: 0.3809 - accuracy: 0.8659 - val_loss: 0.4106 - val_accuracy: 0.8486\n",
            "Epoch 27/50\n",
            "782/782 [==============================] - 2s 2ms/step - loss: 0.3788 - accuracy: 0.8658 - val_loss: 0.4059 - val_accuracy: 0.8512\n",
            "Epoch 28/50\n",
            "782/782 [==============================] - 2s 2ms/step - loss: 0.3802 - accuracy: 0.8667 - val_loss: 0.4074 - val_accuracy: 0.8465\n",
            "Epoch 29/50\n",
            "782/782 [==============================] - 2s 3ms/step - loss: 0.3764 - accuracy: 0.8650 - val_loss: 0.4007 - val_accuracy: 0.8538\n",
            "Epoch 30/50\n",
            "782/782 [==============================] - 2s 3ms/step - loss: 0.3762 - accuracy: 0.8659 - val_loss: 0.4249 - val_accuracy: 0.8429\n",
            "Epoch 31/50\n",
            "782/782 [==============================] - 2s 2ms/step - loss: 0.3765 - accuracy: 0.8655 - val_loss: 0.4025 - val_accuracy: 0.8510\n",
            "Epoch 32/50\n",
            "782/782 [==============================] - 2s 2ms/step - loss: 0.3756 - accuracy: 0.8660 - val_loss: 0.3986 - val_accuracy: 0.8533\n",
            "Epoch 33/50\n",
            "782/782 [==============================] - 2s 3ms/step - loss: 0.3750 - accuracy: 0.8642 - val_loss: 0.4001 - val_accuracy: 0.8531\n",
            "Epoch 34/50\n",
            "782/782 [==============================] - 2s 2ms/step - loss: 0.3723 - accuracy: 0.8669 - val_loss: 0.4051 - val_accuracy: 0.8494\n",
            "Epoch 35/50\n",
            "782/782 [==============================] - 2s 2ms/step - loss: 0.3718 - accuracy: 0.8674 - val_loss: 0.3968 - val_accuracy: 0.8526\n",
            "Epoch 36/50\n",
            "782/782 [==============================] - 2s 2ms/step - loss: 0.3694 - accuracy: 0.8675 - val_loss: 0.3984 - val_accuracy: 0.8512\n",
            "Epoch 37/50\n",
            "782/782 [==============================] - 2s 2ms/step - loss: 0.3695 - accuracy: 0.8663 - val_loss: 0.4000 - val_accuracy: 0.8506\n",
            "Epoch 38/50\n",
            "782/782 [==============================] - 2s 3ms/step - loss: 0.3690 - accuracy: 0.8676 - val_loss: 0.3928 - val_accuracy: 0.8538\n",
            "Epoch 39/50\n",
            "782/782 [==============================] - 2s 3ms/step - loss: 0.3662 - accuracy: 0.8681 - val_loss: 0.3909 - val_accuracy: 0.8546\n",
            "Epoch 40/50\n",
            "782/782 [==============================] - 2s 2ms/step - loss: 0.3692 - accuracy: 0.8657 - val_loss: 0.3927 - val_accuracy: 0.8517\n",
            "Epoch 41/50\n",
            "782/782 [==============================] - 2s 2ms/step - loss: 0.3664 - accuracy: 0.8662 - val_loss: 0.4023 - val_accuracy: 0.8448\n",
            "Epoch 42/50\n",
            "782/782 [==============================] - 2s 2ms/step - loss: 0.3642 - accuracy: 0.8665 - val_loss: 0.3899 - val_accuracy: 0.8581\n",
            "Epoch 43/50\n",
            "782/782 [==============================] - 2s 2ms/step - loss: 0.3654 - accuracy: 0.8667 - val_loss: 0.3885 - val_accuracy: 0.8533\n",
            "Epoch 44/50\n",
            "782/782 [==============================] - 2s 3ms/step - loss: 0.3641 - accuracy: 0.8673 - val_loss: 0.3949 - val_accuracy: 0.8538\n",
            "Epoch 45/50\n",
            "782/782 [==============================] - 2s 2ms/step - loss: 0.3640 - accuracy: 0.8674 - val_loss: 0.3876 - val_accuracy: 0.8539\n",
            "Epoch 46/50\n",
            "782/782 [==============================] - 2s 2ms/step - loss: 0.3655 - accuracy: 0.8661 - val_loss: 0.3897 - val_accuracy: 0.8530\n",
            "Epoch 47/50\n",
            "782/782 [==============================] - 2s 2ms/step - loss: 0.3633 - accuracy: 0.8669 - val_loss: 0.4008 - val_accuracy: 0.8471\n",
            "Epoch 48/50\n",
            "782/782 [==============================] - 2s 2ms/step - loss: 0.3619 - accuracy: 0.8661 - val_loss: 0.3850 - val_accuracy: 0.8546\n",
            "Epoch 49/50\n",
            "782/782 [==============================] - 2s 3ms/step - loss: 0.3622 - accuracy: 0.8674 - val_loss: 0.3840 - val_accuracy: 0.8553\n",
            "Epoch 50/50\n",
            "782/782 [==============================] - 2s 3ms/step - loss: 0.3636 - accuracy: 0.8666 - val_loss: 0.3842 - val_accuracy: 0.8554\n",
            "Model Evaluation\n",
            "391/391 [==============================] - 0s 1ms/step - loss: 0.3649 - accuracy: 0.8660\n"
          ],
          "name": "stdout"
        },
        {
          "output_type": "display_data",
          "data": {
            "image/png": "[encoded data removed]",
            "text/plain": [
              "<Figure size 576x360 with 1 Axes>"
            ]
          },
          "metadata": {
            "tags": [],
            "needs_background": "light"
          }
        }
      ]
    },
    {
      "cell_type": "markdown",
      "metadata": {
        "id": "CgnCGYUvDqbC"
      },
      "source": [
        "### [TO COMPLETE] L2-norm\n",
        "\n",
        "L2-norm regularization is also known as weight decay. This strategy drives the weights closer to the origin by adding the regularization term omega which is defined as:\n",
        "$$\n",
        " \\Omega(\\theta)=\\frac{1}{2}||\\mathbf{W}||_2^2\n",
        "$$\n",
        "\n",
        "Let's find the values for the $\\alpha$ parameters that allow removing remove the overfitting effect with L2-norm."
      ]
    },
    {
      "cell_type": "code",
      "metadata": {
        "id": "qqNhu350DtJo",
        "colab": {
          "base_uri": "https://localhost:8080/",
          "height": 1000
        },
        "outputId": "97031695-9e03-44a4-93aa-f7c375dd3331"
      },
      "source": [
        "#[TO COMPLETE] insert the model that you previously defined that overfit the \n",
        "#trainig data, and add the L2-norm regularization. Use proper values for the\n",
        "#alpha hyper-parameters, that prevents the model from overfitting. The results  \n",
        "#reached by the model in terms of loss and accuracy (in all data sets) should be\n",
        "#comparable with the ones obtained by the initial model defined in Exercise 2.1\n",
        "\n",
        "#In general, a layer that exploits L2-norm regularization is defined as follow:\n",
        "\n",
        "#model.add(keras.layers.Dense(units=[TO COMPLETE], activation=[TO COMPLETE],kernel_regularizer=tf.keras.regularizers.l2([TO COMPLETE]))) \n",
        "\n",
        "model = keras.models.Sequential()\n",
        "#[TO COMPLETE]\n",
        "lr=1e-3\n",
        "epochs=50\n",
        "#alpha= 1e-3   WITH THIS VALUE, I OBTAINED WORSE RESULTS ON MODEL EVALUATION SO I HAVE CHANGED ALPHA TO 0.003\n",
        "alpha = 0.003\n",
        "model.add(tf.keras.Input(shape=(num_words,)))\n",
        "model.add(keras.layers.Dense(10, activation=\"relu\", kernel_regularizer=tf.keras.regularizers.l2(alpha)))\n",
        "model.add(keras.layers.Dense(10, activation=\"relu\", kernel_regularizer=tf.keras.regularizers.l2(alpha)))\n",
        "model.add(keras.layers.Dense(1, activation=\"sigmoid\"))\n",
        "\n",
        "\n",
        "model.compile(loss=\"binary_crossentropy\",\n",
        "              optimizer=keras.optimizers.Adam(learning_rate=lr),#[TO COMPLETE] learning rate\n",
        "              metrics=[\"accuracy\"])\n",
        "\n",
        "history = model.fit(X_train, y_train, epochs=epochs,#[TO COMPLETE] epochs\n",
        "                    validation_data=(X_valid, y_valid))\n",
        "\n",
        "print(\"Model Evaluation\")\n",
        "model.evaluate(X_test, y_test)\n",
        "plot_learning_curves(history)"
      ],
      "execution_count": null,
      "outputs": [
        {
          "output_type": "stream",
          "text": [
            "Epoch 1/50\n",
            "782/782 [==============================] - 2s 2ms/step - loss: 0.4588 - accuracy: 0.8245 - val_loss: 0.4080 - val_accuracy: 0.8457\n",
            "Epoch 2/50\n",
            "782/782 [==============================] - 2s 2ms/step - loss: 0.3830 - accuracy: 0.8602 - val_loss: 0.3904 - val_accuracy: 0.8518\n",
            "Epoch 3/50\n",
            "782/782 [==============================] - 2s 2ms/step - loss: 0.3744 - accuracy: 0.8615 - val_loss: 0.3974 - val_accuracy: 0.8457\n",
            "Epoch 4/50\n",
            "782/782 [==============================] - 2s 3ms/step - loss: 0.3675 - accuracy: 0.8644 - val_loss: 0.3965 - val_accuracy: 0.8459\n",
            "Epoch 5/50\n",
            "782/782 [==============================] - 2s 3ms/step - loss: 0.3638 - accuracy: 0.8646 - val_loss: 0.3854 - val_accuracy: 0.8510\n",
            "Epoch 6/50\n",
            "782/782 [==============================] - 2s 2ms/step - loss: 0.3615 - accuracy: 0.8650 - val_loss: 0.3776 - val_accuracy: 0.8551\n",
            "Epoch 7/50\n",
            "782/782 [==============================] - 2s 3ms/step - loss: 0.3577 - accuracy: 0.8654 - val_loss: 0.3767 - val_accuracy: 0.8528\n",
            "Epoch 8/50\n",
            "782/782 [==============================] - 2s 2ms/step - loss: 0.3565 - accuracy: 0.8669 - val_loss: 0.3771 - val_accuracy: 0.8534\n",
            "Epoch 9/50\n",
            "782/782 [==============================] - 2s 3ms/step - loss: 0.3502 - accuracy: 0.8707 - val_loss: 0.3780 - val_accuracy: 0.8547\n",
            "Epoch 10/50\n",
            "782/782 [==============================] - 2s 2ms/step - loss: 0.3485 - accuracy: 0.8698 - val_loss: 0.3763 - val_accuracy: 0.8548\n",
            "Epoch 11/50\n",
            "782/782 [==============================] - 2s 2ms/step - loss: 0.3468 - accuracy: 0.8701 - val_loss: 0.3859 - val_accuracy: 0.8495\n",
            "Epoch 12/50\n",
            "782/782 [==============================] - 2s 3ms/step - loss: 0.3449 - accuracy: 0.8711 - val_loss: 0.3879 - val_accuracy: 0.8502\n",
            "Epoch 13/50\n",
            "782/782 [==============================] - 2s 3ms/step - loss: 0.3415 - accuracy: 0.8731 - val_loss: 0.3838 - val_accuracy: 0.8510\n",
            "Epoch 14/50\n",
            "782/782 [==============================] - 2s 3ms/step - loss: 0.3419 - accuracy: 0.8744 - val_loss: 0.3853 - val_accuracy: 0.8498\n",
            "Epoch 15/50\n",
            "782/782 [==============================] - 2s 2ms/step - loss: 0.3373 - accuracy: 0.8768 - val_loss: 0.3822 - val_accuracy: 0.8550\n",
            "Epoch 16/50\n",
            "782/782 [==============================] - 2s 2ms/step - loss: 0.3348 - accuracy: 0.8790 - val_loss: 0.3821 - val_accuracy: 0.8526\n",
            "Epoch 17/50\n",
            "782/782 [==============================] - 2s 3ms/step - loss: 0.3337 - accuracy: 0.8763 - val_loss: 0.3797 - val_accuracy: 0.8553\n",
            "Epoch 18/50\n",
            "782/782 [==============================] - 2s 2ms/step - loss: 0.3322 - accuracy: 0.8780 - val_loss: 0.3927 - val_accuracy: 0.8494\n",
            "Epoch 19/50\n",
            "782/782 [==============================] - 2s 2ms/step - loss: 0.3286 - accuracy: 0.8814 - val_loss: 0.3843 - val_accuracy: 0.8509\n",
            "Epoch 20/50\n",
            "782/782 [==============================] - 2s 2ms/step - loss: 0.3282 - accuracy: 0.8804 - val_loss: 0.3831 - val_accuracy: 0.8518\n",
            "Epoch 21/50\n",
            "782/782 [==============================] - 2s 2ms/step - loss: 0.3249 - accuracy: 0.8816 - val_loss: 0.3839 - val_accuracy: 0.8506\n",
            "Epoch 22/50\n",
            "782/782 [==============================] - 2s 2ms/step - loss: 0.3259 - accuracy: 0.8785 - val_loss: 0.3877 - val_accuracy: 0.8508\n",
            "Epoch 23/50\n",
            "782/782 [==============================] - 2s 2ms/step - loss: 0.3233 - accuracy: 0.8802 - val_loss: 0.3899 - val_accuracy: 0.8486\n",
            "Epoch 24/50\n",
            "782/782 [==============================] - 2s 2ms/step - loss: 0.3217 - accuracy: 0.8824 - val_loss: 0.3864 - val_accuracy: 0.8494\n",
            "Epoch 25/50\n",
            "782/782 [==============================] - 2s 2ms/step - loss: 0.3209 - accuracy: 0.8819 - val_loss: 0.3865 - val_accuracy: 0.8490\n",
            "Epoch 26/50\n",
            "782/782 [==============================] - 2s 2ms/step - loss: 0.3200 - accuracy: 0.8833 - val_loss: 0.3934 - val_accuracy: 0.8494\n",
            "Epoch 27/50\n",
            "782/782 [==============================] - 2s 3ms/step - loss: 0.3185 - accuracy: 0.8823 - val_loss: 0.3909 - val_accuracy: 0.8515\n",
            "Epoch 28/50\n",
            "782/782 [==============================] - 2s 2ms/step - loss: 0.3186 - accuracy: 0.8834 - val_loss: 0.3930 - val_accuracy: 0.8477\n",
            "Epoch 29/50\n",
            "782/782 [==============================] - 2s 2ms/step - loss: 0.3155 - accuracy: 0.8824 - val_loss: 0.3848 - val_accuracy: 0.8517\n",
            "Epoch 30/50\n",
            "782/782 [==============================] - 2s 3ms/step - loss: 0.3158 - accuracy: 0.8830 - val_loss: 0.3880 - val_accuracy: 0.8459\n",
            "Epoch 31/50\n",
            "782/782 [==============================] - 2s 2ms/step - loss: 0.3154 - accuracy: 0.8848 - val_loss: 0.3846 - val_accuracy: 0.8489\n",
            "Epoch 32/50\n",
            "782/782 [==============================] - 2s 3ms/step - loss: 0.3154 - accuracy: 0.8839 - val_loss: 0.3886 - val_accuracy: 0.8509\n",
            "Epoch 33/50\n",
            "782/782 [==============================] - 2s 2ms/step - loss: 0.3143 - accuracy: 0.8827 - val_loss: 0.3920 - val_accuracy: 0.8518\n",
            "Epoch 34/50\n",
            "782/782 [==============================] - 2s 2ms/step - loss: 0.3141 - accuracy: 0.8835 - val_loss: 0.3911 - val_accuracy: 0.8490\n",
            "Epoch 35/50\n",
            "782/782 [==============================] - 2s 2ms/step - loss: 0.3135 - accuracy: 0.8842 - val_loss: 0.3911 - val_accuracy: 0.8480\n",
            "Epoch 36/50\n",
            "782/782 [==============================] - 2s 3ms/step - loss: 0.3124 - accuracy: 0.8857 - val_loss: 0.4018 - val_accuracy: 0.8453\n",
            "Epoch 37/50\n",
            "782/782 [==============================] - 2s 3ms/step - loss: 0.3131 - accuracy: 0.8851 - val_loss: 0.3933 - val_accuracy: 0.8466\n",
            "Epoch 38/50\n",
            "782/782 [==============================] - 2s 3ms/step - loss: 0.3120 - accuracy: 0.8853 - val_loss: 0.3905 - val_accuracy: 0.8474\n",
            "Epoch 39/50\n",
            "782/782 [==============================] - 2s 2ms/step - loss: 0.3091 - accuracy: 0.8884 - val_loss: 0.4004 - val_accuracy: 0.8450\n",
            "Epoch 40/50\n",
            "782/782 [==============================] - 2s 2ms/step - loss: 0.3137 - accuracy: 0.8834 - val_loss: 0.3922 - val_accuracy: 0.8460\n",
            "Epoch 41/50\n",
            "782/782 [==============================] - 2s 2ms/step - loss: 0.3112 - accuracy: 0.8865 - val_loss: 0.4003 - val_accuracy: 0.8431\n",
            "Epoch 42/50\n",
            "782/782 [==============================] - 2s 3ms/step - loss: 0.3091 - accuracy: 0.8855 - val_loss: 0.3939 - val_accuracy: 0.8437\n",
            "Epoch 43/50\n",
            "782/782 [==============================] - 2s 2ms/step - loss: 0.3100 - accuracy: 0.8852 - val_loss: 0.3936 - val_accuracy: 0.8466\n",
            "Epoch 44/50\n",
            "782/782 [==============================] - 2s 3ms/step - loss: 0.3099 - accuracy: 0.8865 - val_loss: 0.3989 - val_accuracy: 0.8466\n",
            "Epoch 45/50\n",
            "782/782 [==============================] - 2s 3ms/step - loss: 0.3095 - accuracy: 0.8858 - val_loss: 0.3943 - val_accuracy: 0.8451\n",
            "Epoch 46/50\n",
            "782/782 [==============================] - 2s 2ms/step - loss: 0.3101 - accuracy: 0.8872 - val_loss: 0.4029 - val_accuracy: 0.8443\n",
            "Epoch 47/50\n",
            "782/782 [==============================] - 2s 2ms/step - loss: 0.3092 - accuracy: 0.8880 - val_loss: 0.4037 - val_accuracy: 0.8452\n",
            "Epoch 48/50\n",
            "782/782 [==============================] - 2s 3ms/step - loss: 0.3080 - accuracy: 0.8892 - val_loss: 0.3949 - val_accuracy: 0.8477\n",
            "Epoch 49/50\n",
            "782/782 [==============================] - 2s 2ms/step - loss: 0.3076 - accuracy: 0.8888 - val_loss: 0.3952 - val_accuracy: 0.8478\n",
            "Epoch 50/50\n",
            "782/782 [==============================] - 2s 3ms/step - loss: 0.3096 - accuracy: 0.8874 - val_loss: 0.3904 - val_accuracy: 0.8480\n",
            "Model Evaluation\n",
            "391/391 [==============================] - 1s 1ms/step - loss: 0.3718 - accuracy: 0.8590\n"
          ],
          "name": "stdout"
        },
        {
          "output_type": "display_data",
          "data": {
            "image/png": "[encoded data removed]",
            "text/plain": [
              "<Figure size 576x360 with 1 Axes>"
            ]
          },
          "metadata": {
            "tags": [],
            "needs_background": "light"
          }
        }
      ]
    },
    {
      "cell_type": "markdown",
      "metadata": {
        "id": "xvyKPb4DD25G"
      },
      "source": [
        "###[TO COMPLETE] Early stopping\n",
        "\n",
        "Early Stopping is a form of regularization used to avoid overfitting. It is designed to monitor the generalization error of one model and stop training when generalization error begins to degrade. In order to evaluate the generalization error, early stopping requires that a validation dataset is evaluated during training. Then, when the validation error does not improve for a specific number of epochs (patience hyper-parameter), it stops the training phase."
      ]
    },
    {
      "cell_type": "code",
      "metadata": {
        "id": "MqNOOZ11D7cq",
        "colab": {
          "base_uri": "https://localhost:8080/",
          "height": 596
        },
        "outputId": "e8d333e6-f6d2-47ad-8eea-9c2a19d415e1"
      },
      "source": [
        "#[TO COMPLETE] insert the model that you previously defined that overfit the \n",
        "#trainnig data\n",
        "\n",
        "\n",
        "model = keras.models.Sequential()\n",
        "model.add(tf.keras.Input(shape=(num_words,)))\n",
        "model.add(keras.layers.Dense(10, activation=\"relu\"))\n",
        "model.add(keras.layers.Dense(10, activation=\"relu\"))\n",
        "model.add(keras.layers.Dense(1, activation=\"sigmoid\"))\n",
        "\n",
        "lr=1e-3\n",
        "epochs=50\n",
        "patience=5\n",
        "model.compile(loss=\"binary_crossentropy\",\n",
        "              optimizer=keras.optimizers.Adam(learning_rate=lr),#[TO COMPLETE] learning rate\n",
        "\n",
        "              metrics=[\"accuracy\"])\n",
        "\n",
        "#Let's define a log dir in order to save the checkpoint file\n",
        "logdir = os.path.join(os.curdir, \"my_logs\", \"run_{}\".format(time.time()))\n",
        "\n",
        "#In Keras the Eraly stopping is manage by using the callbacks argument.\n",
        "#In Keras the Eraly stopping is manage by using the callbacks argument.\n",
        "callbacks = [\n",
        "    keras.callbacks.TensorBoard(logdir),\n",
        "    keras.callbacks.EarlyStopping(patience=patience),#[TO COMPLETE] play with patience and find the value that prevents the model from overfitting.\n",
        "\n",
        "\n",
        "    #Saving the checkpoints file allows to load the \"best\" model when the Early \n",
        "    #stopping detect that the generalization error degrade (after 'patience' epochs)\n",
        "    keras.callbacks.ModelCheckpoint(\"my_mnist_model.h5\", save_best_only=True),\n",
        "]\n",
        "\n",
        "history = model.fit(X_train, y_train, epochs=epochs,#[TO COMPLETE] epochs\n",
        "                    validation_data=(X_valid, y_valid),\n",
        "                    callbacks=callbacks)\n",
        "\n",
        "print(\"Model Evaluation\")\n",
        "#The early stopping stopped training after few epochs without progress, so your\n",
        "#model may already have started to overfit the training set. Since the \n",
        "#ModelCheckpoint callback only saved the best models (on the validation set) the\n",
        "#last saved model is the best on the validation set.\n",
        "model = keras.models.load_model(\"my_mnist_model.h5\")\n",
        "model.evaluate(X_test, y_test)\n",
        "plot_learning_curves(history)"
      ],
      "execution_count": null,
      "outputs": [
        {
          "output_type": "stream",
          "text": [
            "Epoch 1/50\n",
            "782/782 [==============================] - 2s 2ms/step - loss: 0.4136 - accuracy: 0.8169 - val_loss: 0.3513 - val_accuracy: 0.8487\n",
            "Epoch 2/50\n",
            "782/782 [==============================] - 2s 2ms/step - loss: 0.3207 - accuracy: 0.8661 - val_loss: 0.3355 - val_accuracy: 0.8550\n",
            "Epoch 3/50\n",
            "782/782 [==============================] - 2s 2ms/step - loss: 0.3091 - accuracy: 0.8715 - val_loss: 0.3475 - val_accuracy: 0.8494\n",
            "Epoch 4/50\n",
            "782/782 [==============================] - 2s 2ms/step - loss: 0.2989 - accuracy: 0.8742 - val_loss: 0.3506 - val_accuracy: 0.8493\n",
            "Epoch 5/50\n",
            "782/782 [==============================] - 2s 2ms/step - loss: 0.2858 - accuracy: 0.8803 - val_loss: 0.3410 - val_accuracy: 0.8514\n",
            "Epoch 6/50\n",
            "782/782 [==============================] - 2s 3ms/step - loss: 0.2716 - accuracy: 0.8874 - val_loss: 0.3448 - val_accuracy: 0.8509\n",
            "Epoch 7/50\n",
            "782/782 [==============================] - 2s 2ms/step - loss: 0.2540 - accuracy: 0.8953 - val_loss: 0.3705 - val_accuracy: 0.8453\n",
            "Model Evaluation\n",
            "391/391 [==============================] - 1s 1ms/step - loss: 0.3170 - accuracy: 0.8646\n"
          ],
          "name": "stdout"
        },
        {
          "output_type": "display_data",
          "data": {
            "image/png": "[encoded data removed]",
            "text/plain": [
              "<Figure size 576x360 with 1 Axes>"
            ]
          },
          "metadata": {
            "tags": [],
            "needs_background": "light"
          }
        }
      ]
    },
    {
      "cell_type": "markdown",
      "metadata": {
        "id": "DCV8pwVzl9GK"
      },
      "source": [
        "## Exercise 2.3: Model Selection\n",
        "\n",
        "Hyperparameters are the parameters of the learning method itself which we have to specify a priori, i.e., before model fitting. In contrast, model parameters are parameters which arise as a result of the fit (the network weights). The aim of model selection is selecting the best hyperparameters for our deep network. Finding the right hyperparameters for a model can be crucial for the model performance on given data. For istance lets consider our model trained by using different values for the learning rate: "
      ]
    },
    {
      "cell_type": "code",
      "metadata": {
        "id": "Fw8Hs-AEmLKh"
      },
      "source": [
        "learning_rates = [1e-4, 1e-2, 1e-1]"
      ],
      "execution_count": null,
      "outputs": []
    },
    {
      "cell_type": "code",
      "metadata": {
        "id": "mym4GOgUmWqD",
        "colab": {
          "base_uri": "https://localhost:8080/"
        },
        "outputId": "eff04ff2-c696-49d9-b7e5-36782299d5f2"
      },
      "source": [
        "histories = []\n",
        "for learning_rate in learning_rates:\n",
        "    model = keras.models.Sequential([\n",
        "                                    tf.keras.Input(shape=(num_words,)),\n",
        "                                    keras.layers.Dense(16, activation=\"relu\"),\n",
        "                                    keras.layers.Dense(16, activation=\"relu\"),\n",
        "                                    keras.layers.Dense(1, activation=\"sigmoid\")\n",
        "                                     ])\n",
        "    model.compile(loss=\"binary_crossentropy\",\n",
        "              optimizer=keras.optimizers.Adam(learning_rate=learning_rate),\n",
        "              metrics=[\"accuracy\"])\n",
        "              \n",
        "    callbacks = [keras.callbacks.EarlyStopping(patience=2)]\n",
        "\n",
        "    history = model.fit(X_train, y_train,\n",
        "                        validation_data=(X_valid, y_valid), epochs=10,\n",
        "                        callbacks=callbacks)\n",
        "    histories.append(history)\n",
        "    print(\"evaluation on test set\")\n",
        "    model.evaluate(X_test, y_test)"
      ],
      "execution_count": null,
      "outputs": [
        {
          "output_type": "stream",
          "text": [
            "Epoch 1/10\n",
            "782/782 [==============================] - 2s 2ms/step - loss: 0.6019 - accuracy: 0.6923 - val_loss: 0.4769 - val_accuracy: 0.8055\n",
            "Epoch 2/10\n",
            "782/782 [==============================] - 2s 2ms/step - loss: 0.4039 - accuracy: 0.8359 - val_loss: 0.3736 - val_accuracy: 0.8438\n",
            "Epoch 3/10\n",
            "782/782 [==============================] - 2s 2ms/step - loss: 0.3416 - accuracy: 0.8581 - val_loss: 0.3492 - val_accuracy: 0.8522\n",
            "Epoch 4/10\n",
            "782/782 [==============================] - 2s 3ms/step - loss: 0.3204 - accuracy: 0.8670 - val_loss: 0.3390 - val_accuracy: 0.8564\n",
            "Epoch 5/10\n",
            "782/782 [==============================] - 2s 2ms/step - loss: 0.3102 - accuracy: 0.8718 - val_loss: 0.3375 - val_accuracy: 0.8568\n",
            "Epoch 6/10\n",
            "782/782 [==============================] - 2s 3ms/step - loss: 0.3047 - accuracy: 0.8738 - val_loss: 0.3343 - val_accuracy: 0.8576\n",
            "Epoch 7/10\n",
            "782/782 [==============================] - 2s 2ms/step - loss: 0.3007 - accuracy: 0.8759 - val_loss: 0.3346 - val_accuracy: 0.8562\n",
            "Epoch 8/10\n",
            "782/782 [==============================] - 2s 3ms/step - loss: 0.2981 - accuracy: 0.8772 - val_loss: 0.3348 - val_accuracy: 0.8564\n",
            "evaluation on test set\n",
            "391/391 [==============================] - 0s 1ms/step - loss: 0.3154 - accuracy: 0.8662\n",
            "Epoch 1/10\n",
            "782/782 [==============================] - 2s 2ms/step - loss: 0.3699 - accuracy: 0.8364 - val_loss: 0.3391 - val_accuracy: 0.8490\n",
            "Epoch 2/10\n",
            "782/782 [==============================] - 2s 2ms/step - loss: 0.3163 - accuracy: 0.8631 - val_loss: 0.3379 - val_accuracy: 0.8541\n",
            "Epoch 3/10\n",
            "782/782 [==============================] - 2s 2ms/step - loss: 0.2948 - accuracy: 0.8730 - val_loss: 0.3478 - val_accuracy: 0.8487\n",
            "Epoch 4/10\n",
            "782/782 [==============================] - 2s 2ms/step - loss: 0.2769 - accuracy: 0.8826 - val_loss: 0.3616 - val_accuracy: 0.8460\n",
            "evaluation on test set\n",
            "391/391 [==============================] - 0s 1ms/step - loss: 0.3367 - accuracy: 0.8594\n",
            "Epoch 1/10\n",
            "782/782 [==============================] - 2s 3ms/step - loss: 0.4537 - accuracy: 0.7938 - val_loss: 0.3712 - val_accuracy: 0.8470\n",
            "Epoch 2/10\n",
            "782/782 [==============================] - 2s 2ms/step - loss: 0.3642 - accuracy: 0.8510 - val_loss: 0.3608 - val_accuracy: 0.8454\n",
            "Epoch 3/10\n",
            "782/782 [==============================] - 2s 2ms/step - loss: 0.3751 - accuracy: 0.8538 - val_loss: 0.3932 - val_accuracy: 0.8278\n",
            "Epoch 4/10\n",
            "782/782 [==============================] - 2s 2ms/step - loss: 0.3520 - accuracy: 0.8574 - val_loss: 0.4056 - val_accuracy: 0.8458\n",
            "evaluation on test set\n",
            "391/391 [==============================] - 0s 1ms/step - loss: 0.3894 - accuracy: 0.8594\n"
          ],
          "name": "stdout"
        }
      ]
    },
    {
      "cell_type": "markdown",
      "metadata": {
        "id": "RzTSjfwptkHJ"
      },
      "source": [
        "Let's plot the results"
      ]
    },
    {
      "cell_type": "code",
      "metadata": {
        "id": "cIlN1vlioIYh",
        "colab": {
          "base_uri": "https://localhost:8080/",
          "height": 976
        },
        "outputId": "20512a9d-2520-4237-a113-5a4bfbfa0a16"
      },
      "source": [
        "for learning_rate, history in zip(learning_rates, histories):\n",
        "    print(\"Learning rate:\", learning_rate)\n",
        "    plot_learning_acc_and_loss(history)"
      ],
      "execution_count": null,
      "outputs": [
        {
          "output_type": "stream",
          "text": [
            "Learning rate: 0.0001\n"
          ],
          "name": "stdout"
        },
        {
          "output_type": "display_data",
          "data": {
            "image/png": "[encoded data removed]",
            "text/plain": [
              "<Figure size 576x360 with 1 Axes>"
            ]
          },
          "metadata": {
            "tags": [],
            "needs_background": "light"
          }
        },
        {
          "output_type": "stream",
          "text": [
            "Learning rate: 0.01\n"
          ],
          "name": "stdout"
        },
        {
          "output_type": "display_data",
          "data": {
            "image/png": "[encoded data removed]",
            "text/plain": [
              "<Figure size 576x360 with 1 Axes>"
            ]
          },
          "metadata": {
            "tags": [],
            "needs_background": "light"
          }
        },
        {
          "output_type": "stream",
          "text": [
            "Learning rate: 0.1\n"
          ],
          "name": "stdout"
        },
        {
          "output_type": "display_data",
          "data": {
            "image/png": "[encoded data removed]",
            "text/plain": [
              "<Figure size 576x360 with 1 Axes>"
            ]
          },
          "metadata": {
            "tags": [],
            "needs_background": "light"
          }
        }
      ]
    },
    {
      "cell_type": "markdown",
      "metadata": {
        "id": "_JntujSWq3e5"
      },
      "source": [
        "### [TO COMPLETE] GRID Search:\n",
        "\n",
        "Since a deep net has many hyperparameters, in order to find the best ones, we have to consider all the possible combinations of all of the possible values. One common method to perform this complex task is Grid-Search.\n",
        "Given a set of values for each hyper-parameter, Grid-Search will build a model on each parameter combination possible. It iterates through every parameter combination and stores a model for each combination. Finally, the model that obtained the best result on the validation set will be select.\n",
        "\n",
        "In order to perfrom Grid-Search we will use the GridSearchCV method from scikit-learn."
      ]
    },
    {
      "cell_type": "markdown",
      "metadata": {
        "id": "CPz629YSrDhN"
      },
      "source": [
        "Let's Create a build_model() function that takes two arguments, n_neurons, learning_rate, and builds, compiles and returns a model with the given number of of neurons and the given learning rate.\n",
        "In order to limit the time requirements of the process we will consider only these two hyper-paramters.\n",
        "\n",
        "[TO COMPLETE] in the following code cell define the build_model function."
      ]
    },
    {
      "cell_type": "code",
      "metadata": {
        "id": "oGSKWTTtqxZ4"
      },
      "source": [
        "def build_model(n_units=30, learning_rate=1e-3):\n",
        "    # The function has to build a model similar to the ones we used in previuous execises:\n",
        "    #- a input layer \n",
        "    #- one or two Dense layers composed of n_units and that exploit Relu activation function \n",
        "    #- the output layer that uses the sigmoid activation function\n",
        "    # Then, the model has to be compiled.\n",
        "    model = keras.models.Sequential([\n",
        "                                     tf.keras.Input(shape=(num_words,)),\n",
        "                                     keras.layers.Dense(n_units, activation=\"relu\"),\n",
        "                                     keras.layers.Dense(n_units, activation=\"relu\"),\n",
        "                                     keras.layers.Dense(1, activation=\"sigmoid\")\n",
        "                                    #[TO COMPLETE]\n",
        "                                     ])\n",
        "    \n",
        "    # [TO COMPLETE] Then, the model has to be compiled.\n",
        "    model.compile(loss=\"binary_crossentropy\",\n",
        "              optimizer=keras.optimizers.Adam(learning_rate=learning_rate),\n",
        "              metrics=[\"accuracy\"])\n",
        "    return model\n",
        "\n",
        "    \n",
        "#Create a keras.wrappers.scikit_learn.KerasRegressor and pass the build_model \n",
        "#function to the constructor. This gives you a Scikit-Learn compatible predictor\n",
        "keras_reg = keras.wrappers.scikit_learn.KerasRegressor(build_model)"
      ],
      "execution_count": null,
      "outputs": []
    },
    {
      "cell_type": "markdown",
      "metadata": {
        "id": "PS6W3A2LxDg5"
      },
      "source": [
        "Let's define the lists of hyper-parameters' values. Also in this case, we use a very limited size lists, but in a real-world scenario a reasonable amount of possible values should be considered (try to add some values and check how much the time required to perform the Grid-Search increases)"
      ]
    },
    {
      "cell_type": "code",
      "metadata": {
        "id": "y-uldCW3ru24"
      },
      "source": [
        "param_distribs = {\n",
        "    \"n_units\": [10,20,30],# [TO COMPLETE] insert a list that contains few (2 or 3) reasonable value\n",
        "    \"learning_rate\": [0.01 , 0.001,0.0001] #[TO COMPLETE] insert a list that contains few (2 or 3) reasonable values\n",
        "    #Check how the time required to perform GRID search increases when increasing the number of values for each hyper-parameter.\n",
        "}"
      ],
      "execution_count": null,
      "outputs": []
    },
    {
      "cell_type": "markdown",
      "metadata": {
        "id": "bEiBxVYtx_sK"
      },
      "source": [
        "Use a sklearn.model_selection.GridSearchCV to search the hyperparameter space of your KerasRegressor"
      ]
    },
    {
      "cell_type": "code",
      "metadata": {
        "id": "iobF2Bvdr9ER"
      },
      "source": [
        "from sklearn.model_selection import GridSearchCV\n",
        "\n",
        "grid_search = GridSearchCV(keras_reg, param_distribs)"
      ],
      "execution_count": null,
      "outputs": []
    },
    {
      "cell_type": "markdown",
      "metadata": {
        "id": "LVGMcZz_yKSX"
      },
      "source": [
        "Run the Grid-Search"
      ]
    },
    {
      "cell_type": "code",
      "metadata": {
        "id": "-BA3vgTjr-hw",
        "colab": {
          "base_uri": "https://localhost:8080/"
        },
        "outputId": "353b8c9b-2f0b-4a30-abe2-928752ed15fd"
      },
      "source": [
        "\n",
        "grid_search.fit(X_train.numpy(), y_train, epochs=5,#The number of epochs can be modified (check what happens by increasing it)\n",
        "                validation_data=(X_valid.numpy(), y_valid))"
      ],
      "execution_count": null,
      "outputs": [
        {
          "output_type": "stream",
          "text": [
            "Epoch 1/5\n",
            "625/625 [==============================] - 2s 3ms/step - loss: 0.3761 - accuracy: 0.8321 - val_loss: 0.3342 - val_accuracy: 0.8527\n",
            "Epoch 2/5\n",
            "625/625 [==============================] - 1s 2ms/step - loss: 0.3142 - accuracy: 0.8663 - val_loss: 0.3438 - val_accuracy: 0.8498\n",
            "Epoch 3/5\n",
            "625/625 [==============================] - 2s 3ms/step - loss: 0.2964 - accuracy: 0.8717 - val_loss: 0.3436 - val_accuracy: 0.8493\n",
            "Epoch 4/5\n",
            "625/625 [==============================] - 2s 3ms/step - loss: 0.2784 - accuracy: 0.8801 - val_loss: 0.3501 - val_accuracy: 0.8461\n",
            "Epoch 5/5\n",
            "625/625 [==============================] - 2s 3ms/step - loss: 0.2708 - accuracy: 0.8844 - val_loss: 0.3653 - val_accuracy: 0.8437\n",
            "157/157 [==============================] - 0s 1ms/step - loss: 0.3596 - accuracy: 0.8538\n",
            "Epoch 1/5\n",
            "625/625 [==============================] - 2s 3ms/step - loss: 0.3829 - accuracy: 0.8277 - val_loss: 0.3354 - val_accuracy: 0.8546\n",
            "Epoch 2/5\n",
            "625/625 [==============================] - 2s 3ms/step - loss: 0.3152 - accuracy: 0.8658 - val_loss: 0.3373 - val_accuracy: 0.8565\n",
            "Epoch 3/5\n",
            "625/625 [==============================] - 1s 2ms/step - loss: 0.2964 - accuracy: 0.8727 - val_loss: 0.3551 - val_accuracy: 0.8438\n",
            "Epoch 4/5\n",
            "625/625 [==============================] - 2s 3ms/step - loss: 0.2803 - accuracy: 0.8784 - val_loss: 0.3567 - val_accuracy: 0.8502\n",
            "Epoch 5/5\n",
            "625/625 [==============================] - 2s 3ms/step - loss: 0.2625 - accuracy: 0.8900 - val_loss: 0.3535 - val_accuracy: 0.8505\n",
            "157/157 [==============================] - 0s 1ms/step - loss: 0.3477 - accuracy: 0.8546\n",
            "Epoch 1/5\n",
            "625/625 [==============================] - 2s 2ms/step - loss: 0.3820 - accuracy: 0.8327 - val_loss: 0.3356 - val_accuracy: 0.8534\n",
            "Epoch 2/5\n",
            "625/625 [==============================] - 1s 2ms/step - loss: 0.3144 - accuracy: 0.8640 - val_loss: 0.3350 - val_accuracy: 0.8528\n",
            "Epoch 3/5\n",
            "625/625 [==============================] - 1s 2ms/step - loss: 0.2943 - accuracy: 0.8748 - val_loss: 0.3477 - val_accuracy: 0.8458\n",
            "Epoch 4/5\n",
            "625/625 [==============================] - 2s 3ms/step - loss: 0.2765 - accuracy: 0.8831 - val_loss: 0.3609 - val_accuracy: 0.8439\n",
            "Epoch 5/5\n",
            "625/625 [==============================] - 1s 2ms/step - loss: 0.2593 - accuracy: 0.8913 - val_loss: 0.3569 - val_accuracy: 0.8416\n",
            "157/157 [==============================] - 0s 1ms/step - loss: 0.3558 - accuracy: 0.8482\n",
            "Epoch 1/5\n",
            "625/625 [==============================] - 2s 2ms/step - loss: 0.3775 - accuracy: 0.8306 - val_loss: 0.3517 - val_accuracy: 0.8416\n",
            "Epoch 2/5\n",
            "625/625 [==============================] - 2s 3ms/step - loss: 0.3159 - accuracy: 0.8639 - val_loss: 0.3389 - val_accuracy: 0.8498\n",
            "Epoch 3/5\n",
            "625/625 [==============================] - 2s 3ms/step - loss: 0.2935 - accuracy: 0.8735 - val_loss: 0.3444 - val_accuracy: 0.8490\n",
            "Epoch 4/5\n",
            "625/625 [==============================] - 1s 2ms/step - loss: 0.2774 - accuracy: 0.8821 - val_loss: 0.3553 - val_accuracy: 0.8505\n",
            "Epoch 5/5\n",
            "625/625 [==============================] - 1s 2ms/step - loss: 0.2610 - accuracy: 0.8863 - val_loss: 0.3616 - val_accuracy: 0.8445\n",
            "157/157 [==============================] - 0s 1ms/step - loss: 0.3558 - accuracy: 0.8524\n",
            "Epoch 1/5\n",
            "625/625 [==============================] - 2s 3ms/step - loss: 0.3774 - accuracy: 0.8343 - val_loss: 0.3490 - val_accuracy: 0.8438\n",
            "Epoch 2/5\n",
            "625/625 [==============================] - 2s 3ms/step - loss: 0.3191 - accuracy: 0.8633 - val_loss: 0.3412 - val_accuracy: 0.8486\n",
            "Epoch 3/5\n",
            "625/625 [==============================] - 2s 3ms/step - loss: 0.3013 - accuracy: 0.8692 - val_loss: 0.3605 - val_accuracy: 0.8470\n",
            "Epoch 4/5\n",
            "625/625 [==============================] - 1s 2ms/step - loss: 0.2859 - accuracy: 0.8749 - val_loss: 0.3519 - val_accuracy: 0.8488\n",
            "Epoch 5/5\n",
            "625/625 [==============================] - 2s 3ms/step - loss: 0.2741 - accuracy: 0.8808 - val_loss: 0.3606 - val_accuracy: 0.8464\n",
            "157/157 [==============================] - 0s 1ms/step - loss: 0.3446 - accuracy: 0.8556\n",
            "Epoch 1/5\n",
            "625/625 [==============================] - 2s 2ms/step - loss: 0.3769 - accuracy: 0.8325 - val_loss: 0.3396 - val_accuracy: 0.8502\n",
            "Epoch 2/5\n",
            "625/625 [==============================] - 2s 3ms/step - loss: 0.3182 - accuracy: 0.8636 - val_loss: 0.3403 - val_accuracy: 0.8498\n",
            "Epoch 3/5\n",
            "625/625 [==============================] - 1s 2ms/step - loss: 0.3015 - accuracy: 0.8701 - val_loss: 0.3530 - val_accuracy: 0.8452\n",
            "Epoch 4/5\n",
            "625/625 [==============================] - 2s 3ms/step - loss: 0.2878 - accuracy: 0.8748 - val_loss: 0.3512 - val_accuracy: 0.8468\n",
            "Epoch 5/5\n",
            "625/625 [==============================] - 1s 2ms/step - loss: 0.2786 - accuracy: 0.8787 - val_loss: 0.3638 - val_accuracy: 0.8446\n",
            "157/157 [==============================] - 0s 1ms/step - loss: 0.3578 - accuracy: 0.8468\n",
            "Epoch 1/5\n",
            "625/625 [==============================] - 2s 3ms/step - loss: 0.3802 - accuracy: 0.8328 - val_loss: 0.3406 - val_accuracy: 0.8475\n",
            "Epoch 2/5\n",
            "625/625 [==============================] - 2s 3ms/step - loss: 0.3156 - accuracy: 0.8674 - val_loss: 0.3409 - val_accuracy: 0.8540\n",
            "Epoch 3/5\n",
            "625/625 [==============================] - 1s 2ms/step - loss: 0.2967 - accuracy: 0.8744 - val_loss: 0.3578 - val_accuracy: 0.8442\n",
            "Epoch 4/5\n",
            "625/625 [==============================] - 2s 3ms/step - loss: 0.2771 - accuracy: 0.8826 - val_loss: 0.3616 - val_accuracy: 0.8432\n",
            "Epoch 5/5\n",
            "625/625 [==============================] - 1s 2ms/step - loss: 0.2623 - accuracy: 0.8892 - val_loss: 0.3645 - val_accuracy: 0.8407\n",
            "157/157 [==============================] - 0s 1ms/step - loss: 0.3651 - accuracy: 0.8494\n",
            "Epoch 1/5\n",
            "625/625 [==============================] - 2s 3ms/step - loss: 0.3726 - accuracy: 0.8338 - val_loss: 0.3446 - val_accuracy: 0.8446\n",
            "Epoch 2/5\n",
            "625/625 [==============================] - 1s 2ms/step - loss: 0.3136 - accuracy: 0.8648 - val_loss: 0.3414 - val_accuracy: 0.8518\n",
            "Epoch 3/5\n",
            "625/625 [==============================] - 1s 2ms/step - loss: 0.2872 - accuracy: 0.8751 - val_loss: 0.3559 - val_accuracy: 0.8458\n",
            "Epoch 4/5\n",
            "625/625 [==============================] - 2s 3ms/step - loss: 0.2638 - accuracy: 0.8866 - val_loss: 0.3903 - val_accuracy: 0.8380\n",
            "Epoch 5/5\n",
            "625/625 [==============================] - 2s 3ms/step - loss: 0.2394 - accuracy: 0.8947 - val_loss: 0.3833 - val_accuracy: 0.8357\n",
            "157/157 [==============================] - 0s 1ms/step - loss: 0.3773 - accuracy: 0.8436\n",
            "Epoch 1/5\n",
            "625/625 [==============================] - 2s 3ms/step - loss: 0.3913 - accuracy: 0.8258 - val_loss: 0.3590 - val_accuracy: 0.8368\n",
            "Epoch 2/5\n",
            "625/625 [==============================] - 1s 2ms/step - loss: 0.3250 - accuracy: 0.8597 - val_loss: 0.3459 - val_accuracy: 0.8470\n",
            "Epoch 3/5\n",
            "625/625 [==============================] - 2s 3ms/step - loss: 0.3120 - accuracy: 0.8672 - val_loss: 0.3494 - val_accuracy: 0.8525\n",
            "Epoch 4/5\n",
            "625/625 [==============================] - 1s 2ms/step - loss: 0.2966 - accuracy: 0.8731 - val_loss: 0.3555 - val_accuracy: 0.8438\n",
            "Epoch 5/5\n",
            "625/625 [==============================] - 2s 3ms/step - loss: 0.2822 - accuracy: 0.8792 - val_loss: 0.3609 - val_accuracy: 0.8499\n",
            "157/157 [==============================] - 0s 1ms/step - loss: 0.3537 - accuracy: 0.8502\n",
            "Epoch 1/5\n",
            "625/625 [==============================] - 2s 2ms/step - loss: 0.3775 - accuracy: 0.8324 - val_loss: 0.3587 - val_accuracy: 0.8378\n",
            "Epoch 2/5\n",
            "625/625 [==============================] - 1s 2ms/step - loss: 0.3183 - accuracy: 0.8622 - val_loss: 0.3378 - val_accuracy: 0.8503\n",
            "Epoch 3/5\n",
            "625/625 [==============================] - 1s 2ms/step - loss: 0.2995 - accuracy: 0.8698 - val_loss: 0.3588 - val_accuracy: 0.8412\n",
            "Epoch 4/5\n",
            "625/625 [==============================] - 1s 2ms/step - loss: 0.2797 - accuracy: 0.8795 - val_loss: 0.3719 - val_accuracy: 0.8467\n",
            "Epoch 5/5\n",
            "625/625 [==============================] - 2s 2ms/step - loss: 0.2629 - accuracy: 0.8852 - val_loss: 0.3591 - val_accuracy: 0.8425\n",
            "157/157 [==============================] - 0s 1ms/step - loss: 0.3527 - accuracy: 0.8532\n",
            "Epoch 1/5\n",
            "625/625 [==============================] - 2s 3ms/step - loss: 0.3746 - accuracy: 0.8332 - val_loss: 0.3374 - val_accuracy: 0.8522\n",
            "Epoch 2/5\n",
            "625/625 [==============================] - 2s 3ms/step - loss: 0.3142 - accuracy: 0.8646 - val_loss: 0.3495 - val_accuracy: 0.8510\n",
            "Epoch 3/5\n",
            "625/625 [==============================] - 2s 3ms/step - loss: 0.2882 - accuracy: 0.8759 - val_loss: 0.3476 - val_accuracy: 0.8486\n",
            "Epoch 4/5\n",
            "625/625 [==============================] - 2s 2ms/step - loss: 0.2641 - accuracy: 0.8848 - val_loss: 0.3879 - val_accuracy: 0.8399\n",
            "Epoch 5/5\n",
            "625/625 [==============================] - 2s 3ms/step - loss: 0.2446 - accuracy: 0.8936 - val_loss: 0.3937 - val_accuracy: 0.8389\n",
            "157/157 [==============================] - 0s 1ms/step - loss: 0.3971 - accuracy: 0.8408\n",
            "Epoch 1/5\n",
            "625/625 [==============================] - 2s 3ms/step - loss: 0.3805 - accuracy: 0.8334 - val_loss: 0.3398 - val_accuracy: 0.8508\n",
            "Epoch 2/5\n",
            "625/625 [==============================] - 1s 2ms/step - loss: 0.3132 - accuracy: 0.8664 - val_loss: 0.3458 - val_accuracy: 0.8547\n",
            "Epoch 3/5\n",
            "625/625 [==============================] - 2s 3ms/step - loss: 0.2901 - accuracy: 0.8758 - val_loss: 0.3554 - val_accuracy: 0.8420\n",
            "Epoch 4/5\n",
            "625/625 [==============================] - 2s 3ms/step - loss: 0.2685 - accuracy: 0.8857 - val_loss: 0.3668 - val_accuracy: 0.8461\n",
            "Epoch 5/5\n",
            "625/625 [==============================] - 2s 3ms/step - loss: 0.2401 - accuracy: 0.9002 - val_loss: 0.4135 - val_accuracy: 0.8365\n",
            "157/157 [==============================] - 0s 1ms/step - loss: 0.3895 - accuracy: 0.8420\n",
            "Epoch 1/5\n",
            "625/625 [==============================] - 2s 3ms/step - loss: 0.3756 - accuracy: 0.8325 - val_loss: 0.3477 - val_accuracy: 0.8427\n",
            "Epoch 2/5\n",
            "625/625 [==============================] - 2s 3ms/step - loss: 0.3118 - accuracy: 0.8658 - val_loss: 0.3355 - val_accuracy: 0.8530\n",
            "Epoch 3/5\n",
            "625/625 [==============================] - 1s 2ms/step - loss: 0.2857 - accuracy: 0.8794 - val_loss: 0.3480 - val_accuracy: 0.8477\n",
            "Epoch 4/5\n",
            "625/625 [==============================] - 2s 3ms/step - loss: 0.2562 - accuracy: 0.8927 - val_loss: 0.3887 - val_accuracy: 0.8394\n",
            "Epoch 5/5\n",
            "625/625 [==============================] - 2s 2ms/step - loss: 0.2237 - accuracy: 0.9086 - val_loss: 0.3793 - val_accuracy: 0.8350\n",
            "157/157 [==============================] - 0s 1ms/step - loss: 0.3808 - accuracy: 0.8386\n",
            "Epoch 1/5\n",
            "625/625 [==============================] - 2s 3ms/step - loss: 0.3738 - accuracy: 0.8346 - val_loss: 0.3515 - val_accuracy: 0.8426\n",
            "Epoch 2/5\n",
            "625/625 [==============================] - 2s 2ms/step - loss: 0.3144 - accuracy: 0.8644 - val_loss: 0.3428 - val_accuracy: 0.8439\n",
            "Epoch 3/5\n",
            "625/625 [==============================] - 2s 2ms/step - loss: 0.2880 - accuracy: 0.8772 - val_loss: 0.3493 - val_accuracy: 0.8486\n",
            "Epoch 4/5\n",
            "625/625 [==============================] - 2s 2ms/step - loss: 0.2624 - accuracy: 0.8884 - val_loss: 0.3640 - val_accuracy: 0.8466\n",
            "Epoch 5/5\n",
            "625/625 [==============================] - 1s 2ms/step - loss: 0.2297 - accuracy: 0.9026 - val_loss: 0.3934 - val_accuracy: 0.8338\n",
            "157/157 [==============================] - 0s 1ms/step - loss: 0.3939 - accuracy: 0.8402\n",
            "Epoch 1/5\n",
            "625/625 [==============================] - 2s 3ms/step - loss: 0.3750 - accuracy: 0.8319 - val_loss: 0.3549 - val_accuracy: 0.8442\n",
            "Epoch 2/5\n",
            "625/625 [==============================] - 2s 3ms/step - loss: 0.3137 - accuracy: 0.8637 - val_loss: 0.3507 - val_accuracy: 0.8428\n",
            "Epoch 3/5\n",
            "625/625 [==============================] - 2s 3ms/step - loss: 0.2883 - accuracy: 0.8760 - val_loss: 0.3696 - val_accuracy: 0.8437\n",
            "Epoch 4/5\n",
            "625/625 [==============================] - 1s 2ms/step - loss: 0.2594 - accuracy: 0.8913 - val_loss: 0.3861 - val_accuracy: 0.8416\n",
            "Epoch 5/5\n",
            "625/625 [==============================] - 2s 2ms/step - loss: 0.2339 - accuracy: 0.9032 - val_loss: 0.3727 - val_accuracy: 0.8376\n",
            "157/157 [==============================] - 0s 1ms/step - loss: 0.3554 - accuracy: 0.8484\n",
            "Epoch 1/5\n",
            "625/625 [==============================] - 2s 2ms/step - loss: 0.4104 - accuracy: 0.8130 - val_loss: 0.3409 - val_accuracy: 0.8525\n",
            "Epoch 2/5\n",
            "625/625 [==============================] - 2s 3ms/step - loss: 0.3212 - accuracy: 0.8676 - val_loss: 0.3409 - val_accuracy: 0.8510\n",
            "Epoch 3/5\n",
            "625/625 [==============================] - 2s 3ms/step - loss: 0.3082 - accuracy: 0.8706 - val_loss: 0.3498 - val_accuracy: 0.8500\n",
            "Epoch 4/5\n",
            "625/625 [==============================] - 1s 2ms/step - loss: 0.2950 - accuracy: 0.8781 - val_loss: 0.3427 - val_accuracy: 0.8511\n",
            "Epoch 5/5\n",
            "625/625 [==============================] - 1s 2ms/step - loss: 0.2832 - accuracy: 0.8820 - val_loss: 0.3621 - val_accuracy: 0.8440\n",
            "157/157 [==============================] - 0s 1ms/step - loss: 0.3599 - accuracy: 0.8482\n",
            "Epoch 1/5\n",
            "625/625 [==============================] - 2s 2ms/step - loss: 0.4134 - accuracy: 0.8159 - val_loss: 0.3394 - val_accuracy: 0.8554\n",
            "Epoch 2/5\n",
            "625/625 [==============================] - 2s 3ms/step - loss: 0.3206 - accuracy: 0.8671 - val_loss: 0.3395 - val_accuracy: 0.8552\n",
            "Epoch 3/5\n",
            "625/625 [==============================] - 2s 3ms/step - loss: 0.3076 - accuracy: 0.8717 - val_loss: 0.3460 - val_accuracy: 0.8503\n",
            "Epoch 4/5\n",
            "625/625 [==============================] - 2s 3ms/step - loss: 0.2946 - accuracy: 0.8766 - val_loss: 0.3370 - val_accuracy: 0.8531\n",
            "Epoch 5/5\n",
            "625/625 [==============================] - 2s 3ms/step - loss: 0.2816 - accuracy: 0.8821 - val_loss: 0.3406 - val_accuracy: 0.8518\n",
            "157/157 [==============================] - 0s 1ms/step - loss: 0.3312 - accuracy: 0.8570\n",
            "Epoch 1/5\n",
            "625/625 [==============================] - 2s 3ms/step - loss: 0.4086 - accuracy: 0.8177 - val_loss: 0.3378 - val_accuracy: 0.8542\n",
            "Epoch 2/5\n",
            "625/625 [==============================] - 2s 3ms/step - loss: 0.3196 - accuracy: 0.8670 - val_loss: 0.3380 - val_accuracy: 0.8538\n",
            "Epoch 3/5\n",
            "625/625 [==============================] - 2s 3ms/step - loss: 0.3097 - accuracy: 0.8702 - val_loss: 0.3462 - val_accuracy: 0.8510\n",
            "Epoch 4/5\n",
            "625/625 [==============================] - 2s 2ms/step - loss: 0.2985 - accuracy: 0.8755 - val_loss: 0.3417 - val_accuracy: 0.8494\n",
            "Epoch 5/5\n",
            "625/625 [==============================] - 2s 3ms/step - loss: 0.2855 - accuracy: 0.8795 - val_loss: 0.3437 - val_accuracy: 0.8481\n",
            "157/157 [==============================] - 0s 1ms/step - loss: 0.3453 - accuracy: 0.8530\n",
            "Epoch 1/5\n",
            "625/625 [==============================] - 2s 3ms/step - loss: 0.4337 - accuracy: 0.7932 - val_loss: 0.3537 - val_accuracy: 0.8470\n",
            "Epoch 2/5\n",
            "625/625 [==============================] - 2s 3ms/step - loss: 0.3215 - accuracy: 0.8657 - val_loss: 0.3391 - val_accuracy: 0.8544\n",
            "Epoch 3/5\n",
            "625/625 [==============================] - 2s 2ms/step - loss: 0.3087 - accuracy: 0.8717 - val_loss: 0.3478 - val_accuracy: 0.8502\n",
            "Epoch 4/5\n",
            "625/625 [==============================] - 2s 3ms/step - loss: 0.2990 - accuracy: 0.8748 - val_loss: 0.3432 - val_accuracy: 0.8531\n",
            "Epoch 5/5\n",
            "625/625 [==============================] - 2s 3ms/step - loss: 0.2873 - accuracy: 0.8794 - val_loss: 0.3527 - val_accuracy: 0.8488\n",
            "157/157 [==============================] - 0s 1ms/step - loss: 0.3404 - accuracy: 0.8564\n",
            "Epoch 1/5\n",
            "625/625 [==============================] - 2s 3ms/step - loss: 0.4056 - accuracy: 0.8183 - val_loss: 0.3519 - val_accuracy: 0.8494\n",
            "Epoch 2/5\n",
            "625/625 [==============================] - 2s 3ms/step - loss: 0.3229 - accuracy: 0.8640 - val_loss: 0.3455 - val_accuracy: 0.8510\n",
            "Epoch 3/5\n",
            "625/625 [==============================] - 2s 2ms/step - loss: 0.3117 - accuracy: 0.8686 - val_loss: 0.3492 - val_accuracy: 0.8474\n",
            "Epoch 4/5\n",
            "625/625 [==============================] - 2s 3ms/step - loss: 0.3015 - accuracy: 0.8740 - val_loss: 0.3410 - val_accuracy: 0.8514\n",
            "Epoch 5/5\n",
            "625/625 [==============================] - 1s 2ms/step - loss: 0.2890 - accuracy: 0.8769 - val_loss: 0.3409 - val_accuracy: 0.8502\n",
            "157/157 [==============================] - 0s 1ms/step - loss: 0.3280 - accuracy: 0.8632\n",
            "Epoch 1/5\n",
            "625/625 [==============================] - 2s 2ms/step - loss: 0.3961 - accuracy: 0.8187 - val_loss: 0.3424 - val_accuracy: 0.8525\n",
            "Epoch 2/5\n",
            "625/625 [==============================] - 1s 2ms/step - loss: 0.3182 - accuracy: 0.8670 - val_loss: 0.3384 - val_accuracy: 0.8526\n",
            "Epoch 3/5\n",
            "625/625 [==============================] - 1s 2ms/step - loss: 0.2971 - accuracy: 0.8723 - val_loss: 0.3428 - val_accuracy: 0.8500\n",
            "Epoch 4/5\n",
            "625/625 [==============================] - 1s 2ms/step - loss: 0.2728 - accuracy: 0.8852 - val_loss: 0.3443 - val_accuracy: 0.8505\n",
            "Epoch 5/5\n",
            "625/625 [==============================] - 2s 3ms/step - loss: 0.2454 - accuracy: 0.8970 - val_loss: 0.3710 - val_accuracy: 0.8442\n",
            "157/157 [==============================] - 0s 1ms/step - loss: 0.3677 - accuracy: 0.8490\n",
            "Epoch 1/5\n",
            "625/625 [==============================] - 2s 3ms/step - loss: 0.3981 - accuracy: 0.8228 - val_loss: 0.3375 - val_accuracy: 0.8548\n",
            "Epoch 2/5\n",
            "625/625 [==============================] - 1s 2ms/step - loss: 0.3180 - accuracy: 0.8680 - val_loss: 0.3364 - val_accuracy: 0.8544\n",
            "Epoch 3/5\n",
            "625/625 [==============================] - 2s 2ms/step - loss: 0.3004 - accuracy: 0.8740 - val_loss: 0.3469 - val_accuracy: 0.8490\n",
            "Epoch 4/5\n",
            "625/625 [==============================] - 2s 2ms/step - loss: 0.2801 - accuracy: 0.8824 - val_loss: 0.3398 - val_accuracy: 0.8486\n",
            "Epoch 5/5\n",
            "625/625 [==============================] - 2s 3ms/step - loss: 0.2568 - accuracy: 0.8924 - val_loss: 0.3542 - val_accuracy: 0.8485\n",
            "157/157 [==============================] - 0s 1ms/step - loss: 0.3428 - accuracy: 0.8548\n",
            "Epoch 1/5\n",
            "625/625 [==============================] - 2s 3ms/step - loss: 0.4013 - accuracy: 0.8149 - val_loss: 0.3397 - val_accuracy: 0.8523\n",
            "Epoch 2/5\n",
            "625/625 [==============================] - 1s 2ms/step - loss: 0.3183 - accuracy: 0.8659 - val_loss: 0.3358 - val_accuracy: 0.8541\n",
            "Epoch 3/5\n",
            "625/625 [==============================] - 1s 2ms/step - loss: 0.3011 - accuracy: 0.8732 - val_loss: 0.3444 - val_accuracy: 0.8459\n",
            "Epoch 4/5\n",
            "625/625 [==============================] - 1s 2ms/step - loss: 0.2792 - accuracy: 0.8816 - val_loss: 0.3379 - val_accuracy: 0.8505\n",
            "Epoch 5/5\n",
            "625/625 [==============================] - 2s 2ms/step - loss: 0.2528 - accuracy: 0.8947 - val_loss: 0.3545 - val_accuracy: 0.8440\n",
            "157/157 [==============================] - 0s 1ms/step - loss: 0.3526 - accuracy: 0.8488\n",
            "Epoch 1/5\n",
            "625/625 [==============================] - 2s 3ms/step - loss: 0.3949 - accuracy: 0.8246 - val_loss: 0.3520 - val_accuracy: 0.8454\n",
            "Epoch 2/5\n",
            "625/625 [==============================] - 2s 3ms/step - loss: 0.3144 - accuracy: 0.8676 - val_loss: 0.3325 - val_accuracy: 0.8546\n",
            "Epoch 3/5\n",
            "625/625 [==============================] - 2s 3ms/step - loss: 0.2924 - accuracy: 0.8750 - val_loss: 0.3458 - val_accuracy: 0.8514\n",
            "Epoch 4/5\n",
            "625/625 [==============================] - 2s 3ms/step - loss: 0.2704 - accuracy: 0.8851 - val_loss: 0.3459 - val_accuracy: 0.8485\n",
            "Epoch 5/5\n",
            "625/625 [==============================] - 2s 3ms/step - loss: 0.2397 - accuracy: 0.8985 - val_loss: 0.3762 - val_accuracy: 0.8420\n",
            "157/157 [==============================] - 0s 1ms/step - loss: 0.3643 - accuracy: 0.8452\n",
            "Epoch 1/5\n",
            "625/625 [==============================] - 2s 2ms/step - loss: 0.4036 - accuracy: 0.8181 - val_loss: 0.3577 - val_accuracy: 0.8461\n",
            "Epoch 2/5\n",
            "625/625 [==============================] - 1s 2ms/step - loss: 0.3238 - accuracy: 0.8645 - val_loss: 0.3430 - val_accuracy: 0.8499\n",
            "Epoch 3/5\n",
            "625/625 [==============================] - 1s 2ms/step - loss: 0.3087 - accuracy: 0.8705 - val_loss: 0.3503 - val_accuracy: 0.8470\n",
            "Epoch 4/5\n",
            "625/625 [==============================] - 1s 2ms/step - loss: 0.2912 - accuracy: 0.8773 - val_loss: 0.3405 - val_accuracy: 0.8522\n",
            "Epoch 5/5\n",
            "625/625 [==============================] - 1s 2ms/step - loss: 0.2660 - accuracy: 0.8884 - val_loss: 0.3493 - val_accuracy: 0.8478\n",
            "157/157 [==============================] - 0s 1ms/step - loss: 0.3371 - accuracy: 0.8604\n",
            "Epoch 1/5\n",
            "625/625 [==============================] - 2s 3ms/step - loss: 0.3938 - accuracy: 0.8243 - val_loss: 0.3427 - val_accuracy: 0.8508\n",
            "Epoch 2/5\n",
            "625/625 [==============================] - 2s 3ms/step - loss: 0.3174 - accuracy: 0.8671 - val_loss: 0.3385 - val_accuracy: 0.8533\n",
            "Epoch 3/5\n",
            "625/625 [==============================] - 2s 3ms/step - loss: 0.2945 - accuracy: 0.8734 - val_loss: 0.3443 - val_accuracy: 0.8506\n",
            "Epoch 4/5\n",
            "625/625 [==============================] - 2s 3ms/step - loss: 0.2656 - accuracy: 0.8879 - val_loss: 0.3475 - val_accuracy: 0.8473\n",
            "Epoch 5/5\n",
            "625/625 [==============================] - 2s 3ms/step - loss: 0.2291 - accuracy: 0.9057 - val_loss: 0.3825 - val_accuracy: 0.8444\n",
            "157/157 [==============================] - 0s 1ms/step - loss: 0.3828 - accuracy: 0.8514\n",
            "Epoch 1/5\n",
            "625/625 [==============================] - 2s 3ms/step - loss: 0.3913 - accuracy: 0.8283 - val_loss: 0.3372 - val_accuracy: 0.8556\n",
            "Epoch 2/5\n",
            "625/625 [==============================] - 2s 2ms/step - loss: 0.3122 - accuracy: 0.8686 - val_loss: 0.3353 - val_accuracy: 0.8547\n",
            "Epoch 3/5\n",
            "625/625 [==============================] - 2s 3ms/step - loss: 0.2894 - accuracy: 0.8780 - val_loss: 0.3553 - val_accuracy: 0.8434\n",
            "Epoch 4/5\n",
            "625/625 [==============================] - 2s 2ms/step - loss: 0.2606 - accuracy: 0.8914 - val_loss: 0.3473 - val_accuracy: 0.8498\n",
            "Epoch 5/5\n",
            "625/625 [==============================] - 2s 3ms/step - loss: 0.2218 - accuracy: 0.9087 - val_loss: 0.3745 - val_accuracy: 0.8450\n",
            "157/157 [==============================] - 0s 1ms/step - loss: 0.3567 - accuracy: 0.8494\n",
            "Epoch 1/5\n",
            "625/625 [==============================] - 2s 3ms/step - loss: 0.3885 - accuracy: 0.8301 - val_loss: 0.3410 - val_accuracy: 0.8516\n",
            "Epoch 2/5\n",
            "625/625 [==============================] - 2s 3ms/step - loss: 0.3142 - accuracy: 0.8682 - val_loss: 0.3319 - val_accuracy: 0.8550\n",
            "Epoch 3/5\n",
            "625/625 [==============================] - 2s 3ms/step - loss: 0.2930 - accuracy: 0.8760 - val_loss: 0.3437 - val_accuracy: 0.8477\n",
            "Epoch 4/5\n",
            "625/625 [==============================] - 2s 2ms/step - loss: 0.2673 - accuracy: 0.8870 - val_loss: 0.3431 - val_accuracy: 0.8494\n",
            "Epoch 5/5\n",
            "625/625 [==============================] - 2s 3ms/step - loss: 0.2304 - accuracy: 0.9036 - val_loss: 0.3668 - val_accuracy: 0.8398\n",
            "157/157 [==============================] - 0s 1ms/step - loss: 0.3719 - accuracy: 0.8428\n",
            "Epoch 1/5\n",
            "625/625 [==============================] - 2s 3ms/step - loss: 0.3929 - accuracy: 0.8253 - val_loss: 0.3502 - val_accuracy: 0.8492\n",
            "Epoch 2/5\n",
            "625/625 [==============================] - 2s 2ms/step - loss: 0.3132 - accuracy: 0.8669 - val_loss: 0.3319 - val_accuracy: 0.8532\n",
            "Epoch 3/5\n",
            "625/625 [==============================] - 2s 3ms/step - loss: 0.2896 - accuracy: 0.8773 - val_loss: 0.3406 - val_accuracy: 0.8495\n",
            "Epoch 4/5\n",
            "625/625 [==============================] - 2s 3ms/step - loss: 0.2658 - accuracy: 0.8878 - val_loss: 0.3450 - val_accuracy: 0.8499\n",
            "Epoch 5/5\n",
            "625/625 [==============================] - 2s 3ms/step - loss: 0.2342 - accuracy: 0.9026 - val_loss: 0.3624 - val_accuracy: 0.8450\n",
            "157/157 [==============================] - 0s 1ms/step - loss: 0.3625 - accuracy: 0.8488\n",
            "Epoch 1/5\n",
            "625/625 [==============================] - 2s 3ms/step - loss: 0.3918 - accuracy: 0.8253 - val_loss: 0.3579 - val_accuracy: 0.8441\n",
            "Epoch 2/5\n",
            "625/625 [==============================] - 2s 3ms/step - loss: 0.3177 - accuracy: 0.8644 - val_loss: 0.3368 - val_accuracy: 0.8522\n",
            "Epoch 3/5\n",
            "625/625 [==============================] - 2s 2ms/step - loss: 0.2935 - accuracy: 0.8752 - val_loss: 0.3447 - val_accuracy: 0.8504\n",
            "Epoch 4/5\n",
            "625/625 [==============================] - 2s 3ms/step - loss: 0.2626 - accuracy: 0.8902 - val_loss: 0.3466 - val_accuracy: 0.8482\n",
            "Epoch 5/5\n",
            "625/625 [==============================] - 2s 2ms/step - loss: 0.2212 - accuracy: 0.9101 - val_loss: 0.3668 - val_accuracy: 0.8443\n",
            "157/157 [==============================] - 0s 1ms/step - loss: 0.3556 - accuracy: 0.8492\n",
            "Epoch 1/5\n",
            "625/625 [==============================] - 2s 3ms/step - loss: 0.6603 - accuracy: 0.6097 - val_loss: 0.5976 - val_accuracy: 0.7239\n",
            "Epoch 2/5\n",
            "625/625 [==============================] - 2s 3ms/step - loss: 0.5147 - accuracy: 0.7919 - val_loss: 0.4573 - val_accuracy: 0.8124\n",
            "Epoch 3/5\n",
            "625/625 [==============================] - 2s 3ms/step - loss: 0.4056 - accuracy: 0.8403 - val_loss: 0.3909 - val_accuracy: 0.8378\n",
            "Epoch 4/5\n",
            "625/625 [==============================] - 2s 3ms/step - loss: 0.3560 - accuracy: 0.8572 - val_loss: 0.3623 - val_accuracy: 0.8491\n",
            "Epoch 5/5\n",
            "625/625 [==============================] - 2s 3ms/step - loss: 0.3319 - accuracy: 0.8640 - val_loss: 0.3494 - val_accuracy: 0.8522\n",
            "157/157 [==============================] - 0s 1ms/step - loss: 0.3473 - accuracy: 0.8536\n",
            "Epoch 1/5\n",
            "625/625 [==============================] - 2s 3ms/step - loss: 0.6388 - accuracy: 0.6429 - val_loss: 0.5486 - val_accuracy: 0.7639\n",
            "Epoch 2/5\n",
            "625/625 [==============================] - 2s 3ms/step - loss: 0.4684 - accuracy: 0.8077 - val_loss: 0.4265 - val_accuracy: 0.8269\n",
            "Epoch 3/5\n",
            "625/625 [==============================] - 2s 2ms/step - loss: 0.3866 - accuracy: 0.8439 - val_loss: 0.3798 - val_accuracy: 0.8422\n",
            "Epoch 4/5\n",
            "625/625 [==============================] - 2s 3ms/step - loss: 0.3505 - accuracy: 0.8579 - val_loss: 0.3579 - val_accuracy: 0.8501\n",
            "Epoch 5/5\n",
            "625/625 [==============================] - 2s 3ms/step - loss: 0.3313 - accuracy: 0.8666 - val_loss: 0.3469 - val_accuracy: 0.8522\n",
            "157/157 [==============================] - 0s 1ms/step - loss: 0.3389 - accuracy: 0.8548\n",
            "Epoch 1/5\n",
            "625/625 [==============================] - 2s 3ms/step - loss: 0.6385 - accuracy: 0.6441 - val_loss: 0.5336 - val_accuracy: 0.7745\n",
            "Epoch 2/5\n",
            "625/625 [==============================] - 2s 2ms/step - loss: 0.4565 - accuracy: 0.8108 - val_loss: 0.4141 - val_accuracy: 0.8294\n",
            "Epoch 3/5\n",
            "625/625 [==============================] - 2s 3ms/step - loss: 0.3752 - accuracy: 0.8465 - val_loss: 0.3713 - val_accuracy: 0.8466\n",
            "Epoch 4/5\n",
            "625/625 [==============================] - 1s 2ms/step - loss: 0.3407 - accuracy: 0.8612 - val_loss: 0.3523 - val_accuracy: 0.8524\n",
            "Epoch 5/5\n",
            "625/625 [==============================] - 2s 2ms/step - loss: 0.3227 - accuracy: 0.8684 - val_loss: 0.3431 - val_accuracy: 0.8554\n",
            "157/157 [==============================] - 0s 1ms/step - loss: 0.3424 - accuracy: 0.8556\n",
            "Epoch 1/5\n",
            "625/625 [==============================] - 2s 3ms/step - loss: 0.6542 - accuracy: 0.6347 - val_loss: 0.5789 - val_accuracy: 0.7606\n",
            "Epoch 2/5\n",
            "625/625 [==============================] - 2s 3ms/step - loss: 0.4990 - accuracy: 0.8105 - val_loss: 0.4498 - val_accuracy: 0.8238\n",
            "Epoch 3/5\n",
            "625/625 [==============================] - 2s 2ms/step - loss: 0.4032 - accuracy: 0.8429 - val_loss: 0.3914 - val_accuracy: 0.8383\n",
            "Epoch 4/5\n",
            "625/625 [==============================] - 2s 2ms/step - loss: 0.3587 - accuracy: 0.8574 - val_loss: 0.3643 - val_accuracy: 0.8479\n",
            "Epoch 5/5\n",
            "625/625 [==============================] - 2s 2ms/step - loss: 0.3353 - accuracy: 0.8648 - val_loss: 0.3507 - val_accuracy: 0.8531\n",
            "157/157 [==============================] - 0s 1ms/step - loss: 0.3451 - accuracy: 0.8580\n",
            "Epoch 1/5\n",
            "625/625 [==============================] - 2s 3ms/step - loss: 0.6364 - accuracy: 0.6474 - val_loss: 0.5541 - val_accuracy: 0.7494\n",
            "Epoch 2/5\n",
            "625/625 [==============================] - 2s 2ms/step - loss: 0.4746 - accuracy: 0.7975 - val_loss: 0.4317 - val_accuracy: 0.8139\n",
            "Epoch 3/5\n",
            "625/625 [==============================] - 1s 2ms/step - loss: 0.3870 - accuracy: 0.8382 - val_loss: 0.3814 - val_accuracy: 0.8378\n",
            "Epoch 4/5\n",
            "625/625 [==============================] - 2s 3ms/step - loss: 0.3485 - accuracy: 0.8547 - val_loss: 0.3590 - val_accuracy: 0.8477\n",
            "Epoch 5/5\n",
            "625/625 [==============================] - 2s 2ms/step - loss: 0.3291 - accuracy: 0.8626 - val_loss: 0.3482 - val_accuracy: 0.8510\n",
            "157/157 [==============================] - 0s 1ms/step - loss: 0.3394 - accuracy: 0.8616\n",
            "Epoch 1/5\n",
            "625/625 [==============================] - 2s 3ms/step - loss: 0.6209 - accuracy: 0.6697 - val_loss: 0.5172 - val_accuracy: 0.7853\n",
            "Epoch 2/5\n",
            "625/625 [==============================] - 2s 2ms/step - loss: 0.4356 - accuracy: 0.8204 - val_loss: 0.3979 - val_accuracy: 0.8366\n",
            "Epoch 3/5\n",
            "625/625 [==============================] - 2s 3ms/step - loss: 0.3572 - accuracy: 0.8536 - val_loss: 0.3604 - val_accuracy: 0.8467\n",
            "Epoch 4/5\n",
            "625/625 [==============================] - 2s 3ms/step - loss: 0.3269 - accuracy: 0.8655 - val_loss: 0.3471 - val_accuracy: 0.8518\n",
            "Epoch 5/5\n",
            "625/625 [==============================] - 2s 3ms/step - loss: 0.3120 - accuracy: 0.8720 - val_loss: 0.3423 - val_accuracy: 0.8531\n",
            "157/157 [==============================] - 0s 1ms/step - loss: 0.3362 - accuracy: 0.8606\n",
            "Epoch 1/5\n",
            "625/625 [==============================] - 2s 3ms/step - loss: 0.5978 - accuracy: 0.6951 - val_loss: 0.4850 - val_accuracy: 0.7958\n",
            "Epoch 2/5\n",
            "625/625 [==============================] - 2s 3ms/step - loss: 0.4135 - accuracy: 0.8272 - val_loss: 0.3851 - val_accuracy: 0.8357\n",
            "Epoch 3/5\n",
            "625/625 [==============================] - 1s 2ms/step - loss: 0.3500 - accuracy: 0.8564 - val_loss: 0.3544 - val_accuracy: 0.8474\n",
            "Epoch 4/5\n",
            "625/625 [==============================] - 2s 3ms/step - loss: 0.3248 - accuracy: 0.8661 - val_loss: 0.3433 - val_accuracy: 0.8507\n",
            "Epoch 5/5\n",
            "625/625 [==============================] - 2s 2ms/step - loss: 0.3118 - accuracy: 0.8719 - val_loss: 0.3389 - val_accuracy: 0.8535\n",
            "157/157 [==============================] - 0s 1ms/step - loss: 0.3279 - accuracy: 0.8602\n",
            "Epoch 1/5\n",
            "625/625 [==============================] - 2s 3ms/step - loss: 0.6251 - accuracy: 0.6595 - val_loss: 0.5044 - val_accuracy: 0.7919\n",
            "Epoch 2/5\n",
            "625/625 [==============================] - 2s 3ms/step - loss: 0.4241 - accuracy: 0.8274 - val_loss: 0.3848 - val_accuracy: 0.8405\n",
            "Epoch 3/5\n",
            "625/625 [==============================] - 2s 3ms/step - loss: 0.3497 - accuracy: 0.8569 - val_loss: 0.3524 - val_accuracy: 0.8523\n",
            "Epoch 4/5\n",
            "625/625 [==============================] - 2s 2ms/step - loss: 0.3228 - accuracy: 0.8673 - val_loss: 0.3422 - val_accuracy: 0.8553\n",
            "Epoch 5/5\n",
            "625/625 [==============================] - 2s 3ms/step - loss: 0.3092 - accuracy: 0.8723 - val_loss: 0.3368 - val_accuracy: 0.8565\n",
            "157/157 [==============================] - 0s 1ms/step - loss: 0.3415 - accuracy: 0.8554\n",
            "Epoch 1/5\n",
            "625/625 [==============================] - 2s 3ms/step - loss: 0.6102 - accuracy: 0.6668 - val_loss: 0.4893 - val_accuracy: 0.7809\n",
            "Epoch 2/5\n",
            "625/625 [==============================] - 1s 2ms/step - loss: 0.4146 - accuracy: 0.8220 - val_loss: 0.3866 - val_accuracy: 0.8350\n",
            "Epoch 3/5\n",
            "625/625 [==============================] - 2s 3ms/step - loss: 0.3482 - accuracy: 0.8543 - val_loss: 0.3549 - val_accuracy: 0.8494\n",
            "Epoch 4/5\n",
            "625/625 [==============================] - 2s 3ms/step - loss: 0.3227 - accuracy: 0.8664 - val_loss: 0.3446 - val_accuracy: 0.8556\n",
            "Epoch 5/5\n",
            "625/625 [==============================] - 2s 2ms/step - loss: 0.3090 - accuracy: 0.8731 - val_loss: 0.3406 - val_accuracy: 0.8560\n",
            "157/157 [==============================] - 0s 1ms/step - loss: 0.3393 - accuracy: 0.8578\n",
            "Epoch 1/5\n",
            "625/625 [==============================] - 2s 3ms/step - loss: 0.6209 - accuracy: 0.6693 - val_loss: 0.5166 - val_accuracy: 0.7809\n",
            "Epoch 2/5\n",
            "625/625 [==============================] - 2s 2ms/step - loss: 0.4367 - accuracy: 0.8225 - val_loss: 0.4008 - val_accuracy: 0.8319\n",
            "Epoch 3/5\n",
            "625/625 [==============================] - 2s 3ms/step - loss: 0.3606 - accuracy: 0.8524 - val_loss: 0.3629 - val_accuracy: 0.8471\n",
            "Epoch 4/5\n",
            "625/625 [==============================] - 2s 3ms/step - loss: 0.3306 - accuracy: 0.8630 - val_loss: 0.3488 - val_accuracy: 0.8546\n",
            "Epoch 5/5\n",
            "625/625 [==============================] - 2s 3ms/step - loss: 0.3155 - accuracy: 0.8697 - val_loss: 0.3433 - val_accuracy: 0.8552\n",
            "157/157 [==============================] - 0s 1ms/step - loss: 0.3349 - accuracy: 0.8624\n",
            "Epoch 1/5\n",
            "625/625 [==============================] - 2s 3ms/step - loss: 0.5869 - accuracy: 0.7020 - val_loss: 0.4627 - val_accuracy: 0.8034\n",
            "Epoch 2/5\n",
            "625/625 [==============================] - 2s 3ms/step - loss: 0.3907 - accuracy: 0.8367 - val_loss: 0.3701 - val_accuracy: 0.8398\n",
            "Epoch 3/5\n",
            "625/625 [==============================] - 2s 3ms/step - loss: 0.3342 - accuracy: 0.8618 - val_loss: 0.3489 - val_accuracy: 0.8504\n",
            "Epoch 4/5\n",
            "625/625 [==============================] - 2s 3ms/step - loss: 0.3137 - accuracy: 0.8714 - val_loss: 0.3442 - val_accuracy: 0.8522\n",
            "Epoch 5/5\n",
            "625/625 [==============================] - 2s 3ms/step - loss: 0.3024 - accuracy: 0.8767 - val_loss: 0.3425 - val_accuracy: 0.8542\n",
            "157/157 [==============================] - 0s 1ms/step - loss: 0.3427 - accuracy: 0.8612\n",
            "Epoch 1/5\n",
            "625/625 [==============================] - 2s 3ms/step - loss: 0.5928 - accuracy: 0.6936 - val_loss: 0.4608 - val_accuracy: 0.8080\n",
            "Epoch 2/5\n",
            "625/625 [==============================] - 2s 3ms/step - loss: 0.3919 - accuracy: 0.8396 - val_loss: 0.3697 - val_accuracy: 0.8452\n",
            "Epoch 3/5\n",
            "625/625 [==============================] - 2s 3ms/step - loss: 0.3354 - accuracy: 0.8636 - val_loss: 0.3489 - val_accuracy: 0.8530\n",
            "Epoch 4/5\n",
            "625/625 [==============================] - 2s 3ms/step - loss: 0.3150 - accuracy: 0.8709 - val_loss: 0.3412 - val_accuracy: 0.8561\n",
            "Epoch 5/5\n",
            "625/625 [==============================] - 2s 3ms/step - loss: 0.3039 - accuracy: 0.8764 - val_loss: 0.3392 - val_accuracy: 0.8571\n",
            "157/157 [==============================] - 0s 1ms/step - loss: 0.3283 - accuracy: 0.8590\n",
            "Epoch 1/5\n",
            "625/625 [==============================] - 2s 3ms/step - loss: 0.5928 - accuracy: 0.6864 - val_loss: 0.4682 - val_accuracy: 0.7968\n",
            "Epoch 2/5\n",
            "625/625 [==============================] - 2s 3ms/step - loss: 0.3947 - accuracy: 0.8357 - val_loss: 0.3707 - val_accuracy: 0.8425\n",
            "Epoch 3/5\n",
            "625/625 [==============================] - 2s 3ms/step - loss: 0.3352 - accuracy: 0.8598 - val_loss: 0.3479 - val_accuracy: 0.8523\n",
            "Epoch 4/5\n",
            "625/625 [==============================] - 2s 3ms/step - loss: 0.3135 - accuracy: 0.8693 - val_loss: 0.3426 - val_accuracy: 0.8540\n",
            "Epoch 5/5\n",
            "625/625 [==============================] - 2s 3ms/step - loss: 0.3024 - accuracy: 0.8757 - val_loss: 0.3382 - val_accuracy: 0.8538\n",
            "157/157 [==============================] - 0s 1ms/step - loss: 0.3426 - accuracy: 0.8510\n",
            "Epoch 1/5\n",
            "625/625 [==============================] - 2s 3ms/step - loss: 0.6073 - accuracy: 0.6872 - val_loss: 0.4804 - val_accuracy: 0.8109\n",
            "Epoch 2/5\n",
            "625/625 [==============================] - 2s 3ms/step - loss: 0.4027 - accuracy: 0.8393 - val_loss: 0.3752 - val_accuracy: 0.8412\n",
            "Epoch 3/5\n",
            "625/625 [==============================] - 2s 3ms/step - loss: 0.3385 - accuracy: 0.8622 - val_loss: 0.3472 - val_accuracy: 0.8540\n",
            "Epoch 4/5\n",
            "625/625 [==============================] - 2s 3ms/step - loss: 0.3167 - accuracy: 0.8708 - val_loss: 0.3398 - val_accuracy: 0.8566\n",
            "Epoch 5/5\n",
            "625/625 [==============================] - 2s 3ms/step - loss: 0.3056 - accuracy: 0.8741 - val_loss: 0.3380 - val_accuracy: 0.8556\n",
            "157/157 [==============================] - 0s 1ms/step - loss: 0.3347 - accuracy: 0.8592\n",
            "Epoch 1/5\n",
            "625/625 [==============================] - 2s 3ms/step - loss: 0.5846 - accuracy: 0.7045 - val_loss: 0.4600 - val_accuracy: 0.8082\n",
            "Epoch 2/5\n",
            "625/625 [==============================] - 2s 3ms/step - loss: 0.3929 - accuracy: 0.8370 - val_loss: 0.3712 - val_accuracy: 0.8456\n",
            "Epoch 3/5\n",
            "625/625 [==============================] - 2s 3ms/step - loss: 0.3370 - accuracy: 0.8604 - val_loss: 0.3485 - val_accuracy: 0.8523\n",
            "Epoch 4/5\n",
            "625/625 [==============================] - 2s 3ms/step - loss: 0.3159 - accuracy: 0.8688 - val_loss: 0.3413 - val_accuracy: 0.8547\n",
            "Epoch 5/5\n",
            "625/625 [==============================] - 2s 3ms/step - loss: 0.3047 - accuracy: 0.8737 - val_loss: 0.3409 - val_accuracy: 0.8542\n",
            "157/157 [==============================] - 0s 1ms/step - loss: 0.3313 - accuracy: 0.8620\n",
            "Epoch 1/5\n",
            "782/782 [==============================] - 2s 3ms/step - loss: 0.5730 - accuracy: 0.7128 - val_loss: 0.4376 - val_accuracy: 0.8188\n",
            "Epoch 2/5\n",
            "782/782 [==============================] - 2s 3ms/step - loss: 0.3745 - accuracy: 0.8442 - val_loss: 0.3601 - val_accuracy: 0.8466\n",
            "Epoch 3/5\n",
            "782/782 [==============================] - 2s 3ms/step - loss: 0.3278 - accuracy: 0.8632 - val_loss: 0.3434 - val_accuracy: 0.8537\n",
            "Epoch 4/5\n",
            "782/782 [==============================] - 2s 3ms/step - loss: 0.3114 - accuracy: 0.8699 - val_loss: 0.3381 - val_accuracy: 0.8561\n",
            "Epoch 5/5\n",
            "782/782 [==============================] - 2s 3ms/step - loss: 0.3029 - accuracy: 0.8746 - val_loss: 0.3371 - val_accuracy: 0.8570\n"
          ],
          "name": "stdout"
        },
        {
          "output_type": "execute_result",
          "data": {
            "text/plain": [
              "GridSearchCV(cv=None, error_score=nan,\n",
              "             estimator=<tensorflow.python.keras.wrappers.scikit_learn.KerasRegressor object at 0x7f97b5631cd0>,\n",
              "             iid='deprecated', n_jobs=None,\n",
              "             param_grid={'learning_rate': [0.01, 0.001, 0.0001],\n",
              "                         'n_units': [10, 20, 30]},\n",
              "             pre_dispatch='2*n_jobs', refit=True, return_train_score=False,\n",
              "             scoring=None, verbose=0)"
            ]
          },
          "metadata": {
            "tags": []
          },
          "execution_count": 39
        }
      ]
    },
    {
      "cell_type": "markdown",
      "metadata": {
        "id": "aadmkiOoyM94"
      },
      "source": [
        "Print the best hyper-parameters, and evealuate the best model on the test set."
      ]
    },
    {
      "cell_type": "code",
      "metadata": {
        "id": "b0nL5OZkylNX",
        "colab": {
          "base_uri": "https://localhost:8080/"
        },
        "outputId": "41b02df9-63ce-49d6-e26d-1db2b08238a0"
      },
      "source": [
        "print(grid_search.best_params_)\n",
        "\n",
        "model = grid_search.best_estimator_.model\n",
        "model.evaluate(X_test, y_test)"
      ],
      "execution_count": null,
      "outputs": [
        {
          "output_type": "stream",
          "text": [
            "{'learning_rate': 0.0001, 'n_units': 30}\n",
            "391/391 [==============================] - 0s 1ms/step - loss: 0.3180 - accuracy: 0.8628\n"
          ],
          "name": "stdout"
        },
        {
          "output_type": "execute_result",
          "data": {
            "text/plain": [
              "[0.31800758838653564, 0.8628000020980835]"
            ]
          },
          "metadata": {
            "tags": []
          },
          "execution_count": 40
        }
      ]
    },
    {
      "cell_type": "code",
      "metadata": {
        "id": "_wI35bc5Mnpc"
      },
      "source": [
        ""
      ],
      "execution_count": null,
      "outputs": []
    }
  ]
}